{
 "cells": [
  {
   "cell_type": "code",
   "execution_count": 3,
   "metadata": {},
   "outputs": [
    {
     "name": "stderr",
     "output_type": "stream",
     "text": [
      "/home/mlisovyi/anaconda2/envs/Titanic/lib/python3.5/importlib/_bootstrap.py:222: RuntimeWarning: numpy.dtype size changed, may indicate binary incompatibility. Expected 96, got 88\n",
      "  return f(*args, **kwds)\n",
      "/home/mlisovyi/anaconda2/envs/Titanic/lib/python3.5/importlib/_bootstrap.py:222: RuntimeWarning: numpy.dtype size changed, may indicate binary incompatibility. Expected 96, got 88\n",
      "  return f(*args, **kwds)\n",
      "/home/mlisovyi/anaconda2/envs/Titanic/lib/python3.5/importlib/_bootstrap.py:222: RuntimeWarning: numpy.dtype size changed, may indicate binary incompatibility. Expected 96, got 88\n",
      "  return f(*args, **kwds)\n",
      "/home/mlisovyi/anaconda2/envs/Titanic/lib/python3.5/importlib/_bootstrap.py:222: RuntimeWarning: numpy.dtype size changed, may indicate binary incompatibility. Expected 96, got 88\n",
      "  return f(*args, **kwds)\n"
     ]
    }
   ],
   "source": [
    "import numpy as np\n",
    "import pandas as pd\n",
    "import matplotlib.pyplot as plt\n",
    "import seaborn as sns\n",
    "\n",
    "%matplotlib inline"
   ]
  },
  {
   "cell_type": "code",
   "execution_count": 25,
   "metadata": {},
   "outputs": [],
   "source": [
    "import pickle\n",
    "from subprocess import call, check_output"
   ]
  },
  {
   "cell_type": "code",
   "execution_count": 5,
   "metadata": {
    "scrolled": true
   },
   "outputs": [
    {
     "name": "stdout",
     "output_type": "stream",
     "text": [
      "Python 3.5.5\r\n"
     ]
    }
   ],
   "source": [
    "!python --version"
   ]
  },
  {
   "cell_type": "markdown",
   "metadata": {},
   "source": [
    "# Check correlation between  predictions"
   ]
  },
  {
   "cell_type": "code",
   "execution_count": null,
   "metadata": {},
   "outputs": [],
   "source": []
  },
  {
   "cell_type": "markdown",
   "metadata": {},
   "source": [
    "# Prepare submission for the test sample\n",
    "Read the sample submission"
   ]
  },
  {
   "cell_type": "code",
   "execution_count": 32,
   "metadata": {},
   "outputs": [],
   "source": [
    "submission = pd.read_csv('/home/mlisovyi/.kaggle/competitions/house-prices-advanced-regression-techniques/sample_submission.csv')\n",
    "\n",
    "# config of inputs\n",
    "out_dir = 'data'\n",
    "out_v   = 'v0'\n",
    "opt_features = ['raw', 'pca_quat', 'raw_StandardScaler']\n",
    "opt_models = ['LGB_depth7_cols06', 'LinRegL2_10', 'knn5_p1', 'LGB_depthINF_cols06_nleaves5']\n",
    "#which models to average over\n",
    "average_models = ['raw_LGB_depth7_cols01',\n",
    " 'raw_LGB_depth7_cols06',\n",
    " 'raw_LGB_depthINF_cols06_nleaves5',\n",
    " 'pca_quat_LinRegL2_001',\n",
    " 'pca_quat_LinRegL2_10',\n",
    " 'raw_RandomF_maxF03']#,\n",
    " #'raw_StandardScaler_knn5_p1']\n",
    "average_models_2 = [ 'raw_LGB_depthINF_cols06_nleaves5',\n",
    " 'pca_quat_LinRegL2_10']#,\n",
    " #'raw_StandardScaler_knn5_p1']\n",
    "# the actual predictions\n",
    "preds = pickle.load(open( \"{}/pred_{}.pickle\".format(out_dir, out_v), \"rb\" ))"
   ]
  },
  {
   "cell_type": "code",
   "execution_count": 17,
   "metadata": {},
   "outputs": [
    {
     "data": {
      "text/plain": [
       "Index(['raw_RandomF_maxF06_nest200', 'raw_LinRegL2_001',\n",
       "       'raw_LGB_depth7_cols06', 'raw_knn5_p1', 'raw_LinRegL1_01',\n",
       "       'raw_ExtraF_maxF03_depth7', 'raw_LGB_depth7_cols01',\n",
       "       'raw_RandomF_maxF06', 'raw_knn5', 'raw_RandomF_maxF03',\n",
       "       'raw_ExtraF_maxF03_depth5', 'raw_LGB_depthINF_cols06_nleaves20',\n",
       "       'raw_LinRegL2_10', 'raw_LGB_depthINF_cols06_nleaves5',\n",
       "       'pca_quat_RandomF_maxF06_nest200', 'pca_quat_LinRegL2_001',\n",
       "       'pca_quat_LGB_depth7_cols06', 'pca_quat_knn5_p1',\n",
       "       'pca_quat_LinRegL1_01', 'pca_quat_ExtraF_maxF03_depth7',\n",
       "       'pca_quat_LGB_depth7_cols01', 'pca_quat_RandomF_maxF06',\n",
       "       'pca_quat_knn5', 'pca_quat_RandomF_maxF03',\n",
       "       'pca_quat_ExtraF_maxF03_depth5',\n",
       "       'pca_quat_LGB_depthINF_cols06_nleaves20', 'pca_quat_LinRegL2_10',\n",
       "       'pca_quat_LGB_depthINF_cols06_nleaves5',\n",
       "       'raw_StandardScaler_RandomF_maxF06_nest200',\n",
       "       'raw_StandardScaler_LinRegL2_001',\n",
       "       'raw_StandardScaler_LGB_depth7_cols06', 'raw_StandardScaler_knn5_p1',\n",
       "       'raw_StandardScaler_LinRegL1_01',\n",
       "       'raw_StandardScaler_ExtraF_maxF03_depth7',\n",
       "       'raw_StandardScaler_LGB_depth7_cols01',\n",
       "       'raw_StandardScaler_RandomF_maxF06', 'raw_StandardScaler_knn5',\n",
       "       'raw_StandardScaler_RandomF_maxF03',\n",
       "       'raw_StandardScaler_ExtraF_maxF03_depth5',\n",
       "       'raw_StandardScaler_LGB_depthINF_cols06_nleaves20',\n",
       "       'raw_StandardScaler_LinRegL2_10',\n",
       "       'raw_StandardScaler_LGB_depthINF_cols06_nleaves5',\n",
       "       'pca_quat_StandardScaler_RandomF_maxF06_nest200',\n",
       "       'pca_quat_StandardScaler_LinRegL2_001',\n",
       "       'pca_quat_StandardScaler_LGB_depth7_cols06',\n",
       "       'pca_quat_StandardScaler_knn5_p1',\n",
       "       'pca_quat_StandardScaler_LinRegL1_01',\n",
       "       'pca_quat_StandardScaler_ExtraF_maxF03_depth7',\n",
       "       'pca_quat_StandardScaler_LGB_depth7_cols01',\n",
       "       'pca_quat_StandardScaler_RandomF_maxF06',\n",
       "       'pca_quat_StandardScaler_knn5',\n",
       "       'pca_quat_StandardScaler_RandomF_maxF03',\n",
       "       'pca_quat_StandardScaler_ExtraF_maxF03_depth5',\n",
       "       'pca_quat_StandardScaler_LGB_depthINF_cols06_nleaves20',\n",
       "       'pca_quat_StandardScaler_LinRegL2_10',\n",
       "       'pca_quat_StandardScaler_LGB_depthINF_cols06_nleaves5'],\n",
       "      dtype='object')"
      ]
     },
     "execution_count": 17,
     "metadata": {},
     "output_type": "execute_result"
    }
   ],
   "source": [
    "preds.keys()"
   ]
  },
  {
   "cell_type": "code",
   "execution_count": 14,
   "metadata": {},
   "outputs": [
    {
     "name": "stdout",
     "output_type": "stream",
     "text": [
      "!kaggle competitions submit -c house-prices-advanced-regression-techniques -f data/subm_v0_raw_LGB_depth7_cols06.csv  -m v0_raw_LGB_depth7_cols06\n",
      "!kaggle competitions submit -c house-prices-advanced-regression-techniques -f data/subm_v0_raw_LinRegL2_10.csv  -m v0_raw_LinRegL2_10\n",
      "!kaggle competitions submit -c house-prices-advanced-regression-techniques -f data/subm_v0_raw_knn5_p1.csv  -m v0_raw_knn5_p1\n",
      "!kaggle competitions submit -c house-prices-advanced-regression-techniques -f data/subm_v0_raw_LGB_depthINF_cols06_nleaves5.csv  -m v0_raw_LGB_depthINF_cols06_nleaves5\n",
      "!kaggle competitions submit -c house-prices-advanced-regression-techniques -f data/subm_v0_pca_quat_LGB_depth7_cols06.csv  -m v0_pca_quat_LGB_depth7_cols06\n",
      "!kaggle competitions submit -c house-prices-advanced-regression-techniques -f data/subm_v0_pca_quat_LinRegL2_10.csv  -m v0_pca_quat_LinRegL2_10\n",
      "!kaggle competitions submit -c house-prices-advanced-regression-techniques -f data/subm_v0_pca_quat_knn5_p1.csv  -m v0_pca_quat_knn5_p1\n",
      "!kaggle competitions submit -c house-prices-advanced-regression-techniques -f data/subm_v0_pca_quat_LGB_depthINF_cols06_nleaves5.csv  -m v0_pca_quat_LGB_depthINF_cols06_nleaves5\n",
      "!kaggle competitions submit -c house-prices-advanced-regression-techniques -f data/subm_v0_raw_StandardScaler_LGB_depth7_cols06.csv  -m v0_raw_StandardScaler_LGB_depth7_cols06\n",
      "!kaggle competitions submit -c house-prices-advanced-regression-techniques -f data/subm_v0_raw_StandardScaler_LinRegL2_10.csv  -m v0_raw_StandardScaler_LinRegL2_10\n",
      "!kaggle competitions submit -c house-prices-advanced-regression-techniques -f data/subm_v0_raw_StandardScaler_knn5_p1.csv  -m v0_raw_StandardScaler_knn5_p1\n",
      "!kaggle competitions submit -c house-prices-advanced-regression-techniques -f data/subm_v0_raw_StandardScaler_LGB_depthINF_cols06_nleaves5.csv  -m v0_raw_StandardScaler_LGB_depthINF_cols06_nleaves5\n"
     ]
    }
   ],
   "source": [
    "for feat in opt_features:\n",
    "    for model in opt_models:\n",
    "        submission['SalePrice'] = np.expm1(preds['{}_{}'.format(feat, model)])\n",
    "        fout = '{}/subm_{}_{}_{}.csv'.format(out_dir, out_v, feat, model)\n",
    "        submission.to_csv(fout, index=False)\n",
    "        print('!kaggle competitions submit -c house-prices-advanced-regression-techniques -f {}  -m {}_{}_{}'.format(fout, out_v, feat, model))"
   ]
  },
  {
   "cell_type": "code",
   "execution_count": 27,
   "metadata": {},
   "outputs": [
    {
     "name": "stdout",
     "output_type": "stream",
     "text": [
      "!kaggle competitions submit -c house-prices-advanced-regression-techniques -f data/subm_v0_avePrice.csv  -m v0_avePrice\n"
     ]
    }
   ],
   "source": [
    "submission['SalePrice'] = np.zeros(submission['SalePrice'].shape)\n",
    "for m in average_models:\n",
    "    submission['SalePrice'] += np.expm1(preds[m])\n",
    "    \n",
    "submission['SalePrice'] *= 1./len(average_models)\n",
    "    \n",
    "fout = '{}/subm_{}_avePrice.csv'.format(out_dir, out_v)\n",
    "submission.to_csv(fout, index=False)\n",
    "print('!kaggle competitions submit -c house-prices-advanced-regression-techniques -f {}  -m {}_avePrice'.format(fout, out_v))\n",
    "#check_output(['kaggle', 'competitions submit -c house-prices-advanced-regression-techniques -f {}  -m {}_avePrice'.format(fout, out_v)])"
   ]
  },
  {
   "cell_type": "code",
   "execution_count": 29,
   "metadata": {},
   "outputs": [
    {
     "name": "stdout",
     "output_type": "stream",
     "text": [
      "!kaggle competitions submit -c house-prices-advanced-regression-techniques -f data/subm_v0_aveLogPrice.csv  -m v0_aveLogPrice\n"
     ]
    }
   ],
   "source": [
    "submission['SalePrice'] = np.zeros(submission['SalePrice'].shape)\n",
    "for m in average_models:\n",
    "    submission['SalePrice'] += preds[m]\n",
    "    \n",
    "submission['SalePrice'] *= 1./len(average_models)\n",
    "submission['SalePrice'] = np.expm1(submission['SalePrice'])\n",
    "\n",
    "fout = '{}/subm_{}_aveLogPrice.csv'.format(out_dir, out_v)\n",
    "submission.to_csv(fout, index=False)\n",
    "print('!kaggle competitions submit -c house-prices-advanced-regression-techniques -f {}  -m {}_aveLogPrice'.format(fout, out_v))\n",
    "#check_output(['kaggle', 'competitions submit -c house-prices-advanced-regression-techniques -f {}  -m {}_avePrice'.format(fout, out_v)])"
   ]
  },
  {
   "cell_type": "code",
   "execution_count": 33,
   "metadata": {},
   "outputs": [
    {
     "name": "stdout",
     "output_type": "stream",
     "text": [
      "!kaggle competitions submit -c house-prices-advanced-regression-techniques -f data/subm_v0_aveLogPrice_2.csv  -m v0_aveLogPrice_2\n"
     ]
    }
   ],
   "source": [
    "submission['SalePrice'] = np.zeros(submission['SalePrice'].shape)\n",
    "for m in average_models_2:\n",
    "    submission['SalePrice'] += preds[m]\n",
    "    \n",
    "submission['SalePrice'] *= 1./len(average_models_2)\n",
    "submission['SalePrice'] = np.expm1(submission['SalePrice'])\n",
    "\n",
    "fout = '{}/subm_{}_aveLogPrice_2.csv'.format(out_dir, out_v)\n",
    "submission.to_csv(fout, index=False)\n",
    "print('!kaggle competitions submit -c house-prices-advanced-regression-techniques -f {}  -m {}_aveLogPrice_2'.format(fout, out_v))\n",
    "#check_output(['kaggle', 'competitions submit -c house-prices-advanced-regression-techniques -f {}  -m {}_avePrice'.format(fout, out_v)])"
   ]
  },
  {
   "cell_type": "code",
   "execution_count": 34,
   "metadata": {},
   "outputs": [
    {
     "name": "stdout",
     "output_type": "stream",
     "text": [
      "Successfully submitted to House Prices: Advanced Regression Techniques"
     ]
    }
   ],
   "source": [
    "!kaggle competitions submit -c house-prices-advanced-regression-techniques -f data/subm_v0_aveLogPrice_2.csv  -m v0_aveLogPrice_2"
   ]
  },
  {
   "cell_type": "code",
   "execution_count": null,
   "metadata": {},
   "outputs": [],
   "source": []
  }
 ],
 "metadata": {
  "kernelspec": {
   "display_name": "Python 3",
   "language": "python",
   "name": "python3"
  },
  "language_info": {
   "codemirror_mode": {
    "name": "ipython",
    "version": 3
   },
   "file_extension": ".py",
   "mimetype": "text/x-python",
   "name": "python",
   "nbconvert_exporter": "python",
   "pygments_lexer": "ipython3",
   "version": "3.5.5"
  }
 },
 "nbformat": 4,
 "nbformat_minor": 2
}
