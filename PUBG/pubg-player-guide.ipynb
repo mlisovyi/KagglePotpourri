{
 "cells": [
  {
   "cell_type": "markdown",
   "metadata": {
    "_uuid": "bfefc03e60a3399ee6aaec29ba71ec39bfbe83d3"
   },
   "source": [
    "# Why this kernel?\n",
    "Why should you read through this kernel? The goal is to have a visual guide on which strategy leads to the win:\n",
    "\n",
    "- the data will be read and **memory footprint will be reduced**;\n",
    "- **missing data** will be checked;\n",
    "- **aggregations of the data over teams are performed**;\n",
    "- a baseline model **on team level** will be trained:\n",
    "   - Gradient boosting model as implemented in **LightGBM** is used;\n",
    "   - **Mean absolute error (MAE) is used as the loss function** in the training (consistently with the final evaluation metric). **FAIR loss**  was also tried and seems to lead similar results\n",
    "   - Training is performed with **early stopping based on MAE metric**.\n",
    " - The training is implemented in a cross validation (CV) loop and **out-of-fold (OOF) predictions are stored** for future use in stacking.\n",
    " - **Test predictions** are obtained as an **average over predictions from models trained on k-1 fold subsets**.\n",
    "- Predictions are **clipped to `[0,1]` range**"
   ]
  },
  {
   "cell_type": "code",
   "execution_count": 1,
   "metadata": {
    "ExecuteTime": {
     "end_time": "2018-11-01T15:49:08.746320Z",
     "start_time": "2018-11-01T15:49:08.743162Z"
    },
    "_uuid": "de54aea187ca94ee3e3a27ebcd020cdffe855cb9"
   },
   "outputs": [],
   "source": [
    "# The number of MATCHES to use in training. Whole training dataset is used anyway. Use it to have fast turn-around. Set to 50k for all entries\n",
    "max_matches_trn=5000\n",
    "# The number of entries from test to read in. Use it to have fast turn-around. Set to None for all entries\n",
    "max_events_tst=1000\n",
    "# Number on CV folds\n",
    "n_cv=3"
   ]
  },
  {
   "cell_type": "code",
   "execution_count": 4,
   "metadata": {
    "ExecuteTime": {
     "end_time": "2018-11-01T15:49:19.814263Z",
     "start_time": "2018-11-01T15:49:19.806765Z"
    },
    "_cell_guid": "b1076dfc-b9ad-4769-8c92-a6c4dae69d19",
    "_kg_hide-input": true,
    "_uuid": "8f2839f25d086af736a60e9eeb907d3b93b6e0e5"
   },
   "outputs": [],
   "source": [
    "import numpy as np # linear algebra\n",
    "import pandas as pd # data processing, CSV file I/O (e.g. pd.read_csv)\n",
    "import matplotlib.pyplot as plt\n",
    "%matplotlib inline\n",
    "\n",
    "import warnings\n",
    "warnings.simplefilter(action='ignore', category=Warning)\n",
    "\n",
    "import gc\n",
    "gc.enable()\n",
    "\n",
    "from sklearn.metrics import mean_squared_error, mean_absolute_error\n",
    "\n",
    "import os\n",
    "# print(os.listdir(\"../input\"))"
   ]
  },
  {
   "cell_type": "markdown",
   "metadata": {
    "_uuid": "e8c2280c84ba4940112e24766017f2802edab801"
   },
   "source": [
    "Define a function to reduce memory foorprint"
   ]
  },
  {
   "cell_type": "code",
   "execution_count": 5,
   "metadata": {
    "ExecuteTime": {
     "end_time": "2018-11-01T15:49:20.972467Z",
     "start_time": "2018-11-01T15:49:20.930941Z"
    },
    "_kg_hide-input": true,
    "_uuid": "0d144d5a4de449c1d744d528d0e1d8e21ec8899e"
   },
   "outputs": [],
   "source": [
    "def reduce_mem_usage(df):\n",
    "    \"\"\" iterate through all the columns of a dataframe and modify the data type\n",
    "        to reduce memory usage.        \n",
    "    \"\"\"\n",
    "    start_mem = df.memory_usage(deep=True).sum() / 1024**2\n",
    "    print('Memory usage of dataframe is {:.2f} MB'.format(start_mem))\n",
    "    \n",
    "    for col in df.columns:\n",
    "        col_type = df[col].dtype\n",
    "        \n",
    "        if col_type != object and col_type.name != 'category' and 'datetime' not in col_type.name:\n",
    "            c_min = df[col].min()\n",
    "            c_max = df[col].max()\n",
    "            if str(col_type)[:3] == 'int':\n",
    "                if c_min > np.iinfo(np.int8).min and c_max < np.iinfo(np.int8).max:\n",
    "                    df[col] = df[col].astype(np.int8)\n",
    "                elif c_min > np.iinfo(np.int16).min and c_max < np.iinfo(np.int16).max:\n",
    "                    df[col] = df[col].astype(np.int16)\n",
    "                elif c_min > np.iinfo(np.int32).min and c_max < np.iinfo(np.int32).max:\n",
    "                    df[col] = df[col].astype(np.int32)\n",
    "                elif c_min > np.iinfo(np.int64).min and c_max < np.iinfo(np.int64).max:\n",
    "                    df[col] = df[col].astype(np.int64)  \n",
    "            else:\n",
    "                if c_min > np.finfo(np.float16).min and c_max < np.finfo(np.float16).max:\n",
    "                    df[col] = df[col].astype(np.float16)\n",
    "                elif c_min > np.finfo(np.float32).min and c_max < np.finfo(np.float32).max:\n",
    "                    df[col] = df[col].astype(np.float32)\n",
    "                else:\n",
    "                    df[col] = df[col].astype(np.float64)\n",
    "        elif 'datetime' not in col_type.name:\n",
    "            df[col] = df[col].astype('category')\n",
    "\n",
    "    end_mem = df.memory_usage(deep=True).sum() / 1024**2\n",
    "    print('Memory usage after optimization is: {:.2f} MB'.format(end_mem))\n",
    "    print('Decreased by {:.1f}%'.format(100 * (start_mem - end_mem) / start_mem))\n",
    "    \n",
    "    return df"
   ]
  },
  {
   "cell_type": "markdown",
   "metadata": {
    "_uuid": "4292e016577a9a1971be047e11c173462ee7d43c"
   },
   "source": [
    "Read in the data"
   ]
  },
  {
   "cell_type": "code",
   "execution_count": 6,
   "metadata": {
    "ExecuteTime": {
     "end_time": "2018-11-01T15:49:26.138658Z",
     "start_time": "2018-11-01T15:49:22.854554Z"
    },
    "_uuid": "74fa1a7102ea9b9e660408f106db77db51284df5"
   },
   "outputs": [
    {
     "name": "stdout",
     "output_type": "stream",
     "text": [
      "Memory usage of dataframe is 130.63 MB\n",
      "Memory usage after optimization is: 71.81 MB\n",
      "Decreased by 45.0%\n"
     ]
    }
   ],
   "source": [
    "df_trn_t = pd.read_csv('/home/mlisovyi/tmp/train_V2_5k.csv.gz', nrows=None)\n",
    "df_trn_t = reduce_mem_usage(df_trn_t)\n",
    "\n",
    "# df_tst = pd.read_csv('../input/pubg-finish-placement-prediction/test_V2.csv',  nrows=max_events_tst)\n",
    "# df_tst = reduce_mem_usage(df_tst)"
   ]
  },
  {
   "cell_type": "code",
   "execution_count": 7,
   "metadata": {
    "ExecuteTime": {
     "end_time": "2018-11-01T15:49:26.144793Z",
     "start_time": "2018-11-01T15:49:26.141936Z"
    },
    "_uuid": "a47130fb9949351afae29676f953e2f1b4a266b9"
   },
   "outputs": [],
   "source": [
    "from sklearn.preprocessing import LabelEncoder"
   ]
  },
  {
   "cell_type": "code",
   "execution_count": 8,
   "metadata": {
    "ExecuteTime": {
     "end_time": "2018-11-01T15:49:29.068213Z",
     "start_time": "2018-11-01T15:49:29.065819Z"
    },
    "_uuid": "ac354b4b85ad48ec9b631884198b91972099eec4"
   },
   "outputs": [],
   "source": [
    "# for c in ['matchType', 'matchId', 'groupId']:\n",
    "#     df_tst[c] = LabelEncoder().fit_transform(df_tst[c])"
   ]
  },
  {
   "cell_type": "code",
   "execution_count": 9,
   "metadata": {
    "ExecuteTime": {
     "end_time": "2018-11-01T15:49:31.544992Z",
     "start_time": "2018-11-01T15:49:31.491110Z"
    },
    "_uuid": "627bbf4d3ef9d46100fb79f2fe938df8cc7c1e4a"
   },
   "outputs": [],
   "source": [
    "df_trn = df_trn_t.query('matchId < @max_matches_trn')"
   ]
  },
  {
   "cell_type": "code",
   "execution_count": 10,
   "metadata": {
    "ExecuteTime": {
     "end_time": "2018-11-01T15:49:32.270280Z",
     "start_time": "2018-11-01T15:49:32.227306Z"
    },
    "_uuid": "1448203802eb82a96c71fb78f3a4848379d1dc2a"
   },
   "outputs": [],
   "source": [
    "df_val = df_trn.query('matchId >= 4000')\n",
    "df_trn = df_trn.query('matchId < 4000')"
   ]
  },
  {
   "cell_type": "code",
   "execution_count": 11,
   "metadata": {
    "ExecuteTime": {
     "end_time": "2018-11-01T15:49:33.630219Z",
     "start_time": "2018-11-01T15:49:33.627382Z"
    },
    "_uuid": "f8318d9c5d82051559f33f5d9a3e48d6d3eb7cac"
   },
   "outputs": [
    {
     "name": "stdout",
     "output_type": "stream",
     "text": [
      "Number of training entries after selecting a subset of matches: 371635\n"
     ]
    }
   ],
   "source": [
    "print('Number of training entries after selecting a subset of matches: {}'.format(df_trn.shape[0]))"
   ]
  },
  {
   "cell_type": "code",
   "execution_count": 12,
   "metadata": {
    "ExecuteTime": {
     "end_time": "2018-11-01T15:49:34.061703Z",
     "start_time": "2018-11-01T15:49:34.059285Z"
    },
    "_uuid": "d4e1d6766ffae52fa07f3c19cf5beb9c32ea2e28"
   },
   "outputs": [],
   "source": [
    "# we will NOT use in training\n",
    "features_not2use = ['Id', 'groupId', 'matchId', 'numGroups']"
   ]
  },
  {
   "cell_type": "markdown",
   "metadata": {
    "_uuid": "5769611594f0be21b35805fbee239cc9dc72a577"
   },
   "source": [
    "## How do the data look like?"
   ]
  },
  {
   "cell_type": "code",
   "execution_count": 13,
   "metadata": {
    "ExecuteTime": {
     "end_time": "2018-11-01T15:49:35.115560Z",
     "start_time": "2018-11-01T15:49:35.081180Z"
    },
    "_uuid": "5b34b961208d6d98839eadd4ac38c9041c70713c"
   },
   "outputs": [
    {
     "data": {
      "text/html": [
       "<div>\n",
       "<style scoped>\n",
       "    .dataframe tbody tr th:only-of-type {\n",
       "        vertical-align: middle;\n",
       "    }\n",
       "\n",
       "    .dataframe tbody tr th {\n",
       "        vertical-align: top;\n",
       "    }\n",
       "\n",
       "    .dataframe thead th {\n",
       "        text-align: right;\n",
       "    }\n",
       "</style>\n",
       "<table border=\"1\" class=\"dataframe\">\n",
       "  <thead>\n",
       "    <tr style=\"text-align: right;\">\n",
       "      <th></th>\n",
       "      <th>Id</th>\n",
       "      <th>groupId</th>\n",
       "      <th>matchId</th>\n",
       "      <th>assists</th>\n",
       "      <th>boosts</th>\n",
       "      <th>damageDealt</th>\n",
       "      <th>DBNOs</th>\n",
       "      <th>headshotKills</th>\n",
       "      <th>heals</th>\n",
       "      <th>killPlace</th>\n",
       "      <th>...</th>\n",
       "      <th>revives</th>\n",
       "      <th>rideDistance</th>\n",
       "      <th>roadKills</th>\n",
       "      <th>swimDistance</th>\n",
       "      <th>teamKills</th>\n",
       "      <th>vehicleDestroys</th>\n",
       "      <th>walkDistance</th>\n",
       "      <th>weaponsAcquired</th>\n",
       "      <th>winPoints</th>\n",
       "      <th>winPlacePerc</th>\n",
       "    </tr>\n",
       "  </thead>\n",
       "  <tbody>\n",
       "    <tr>\n",
       "      <th>0</th>\n",
       "      <td>1eaf90ac73de72</td>\n",
       "      <td>843520</td>\n",
       "      <td>3143</td>\n",
       "      <td>1</td>\n",
       "      <td>0</td>\n",
       "      <td>68.00</td>\n",
       "      <td>0</td>\n",
       "      <td>0</td>\n",
       "      <td>0</td>\n",
       "      <td>47</td>\n",
       "      <td>...</td>\n",
       "      <td>0</td>\n",
       "      <td>0.0</td>\n",
       "      <td>0</td>\n",
       "      <td>0.000000</td>\n",
       "      <td>0</td>\n",
       "      <td>0</td>\n",
       "      <td>161.7500</td>\n",
       "      <td>2</td>\n",
       "      <td>0</td>\n",
       "      <td>0.775391</td>\n",
       "    </tr>\n",
       "    <tr>\n",
       "      <th>1</th>\n",
       "      <td>92022479b92ce7</td>\n",
       "      <td>374293</td>\n",
       "      <td>1381</td>\n",
       "      <td>0</td>\n",
       "      <td>3</td>\n",
       "      <td>254.25</td>\n",
       "      <td>0</td>\n",
       "      <td>0</td>\n",
       "      <td>12</td>\n",
       "      <td>13</td>\n",
       "      <td>...</td>\n",
       "      <td>0</td>\n",
       "      <td>2368.0</td>\n",
       "      <td>0</td>\n",
       "      <td>15.289062</td>\n",
       "      <td>0</td>\n",
       "      <td>0</td>\n",
       "      <td>1787.0000</td>\n",
       "      <td>3</td>\n",
       "      <td>0</td>\n",
       "      <td>0.821289</td>\n",
       "    </tr>\n",
       "    <tr>\n",
       "      <th>2</th>\n",
       "      <td>e2d4735f01b693</td>\n",
       "      <td>1444280</td>\n",
       "      <td>387</td>\n",
       "      <td>0</td>\n",
       "      <td>1</td>\n",
       "      <td>440.00</td>\n",
       "      <td>4</td>\n",
       "      <td>0</td>\n",
       "      <td>1</td>\n",
       "      <td>34</td>\n",
       "      <td>...</td>\n",
       "      <td>0</td>\n",
       "      <td>0.0</td>\n",
       "      <td>0</td>\n",
       "      <td>0.000000</td>\n",
       "      <td>0</td>\n",
       "      <td>0</td>\n",
       "      <td>353.5000</td>\n",
       "      <td>2</td>\n",
       "      <td>0</td>\n",
       "      <td>0.222168</td>\n",
       "    </tr>\n",
       "    <tr>\n",
       "      <th>3</th>\n",
       "      <td>5b0bb2ecf3c824</td>\n",
       "      <td>1092281</td>\n",
       "      <td>481</td>\n",
       "      <td>0</td>\n",
       "      <td>0</td>\n",
       "      <td>0.00</td>\n",
       "      <td>0</td>\n",
       "      <td>0</td>\n",
       "      <td>0</td>\n",
       "      <td>86</td>\n",
       "      <td>...</td>\n",
       "      <td>0</td>\n",
       "      <td>0.0</td>\n",
       "      <td>0</td>\n",
       "      <td>0.000000</td>\n",
       "      <td>0</td>\n",
       "      <td>0</td>\n",
       "      <td>128.7500</td>\n",
       "      <td>1</td>\n",
       "      <td>1471</td>\n",
       "      <td>0.021698</td>\n",
       "    </tr>\n",
       "    <tr>\n",
       "      <th>5</th>\n",
       "      <td>8b3cdbefd1f408</td>\n",
       "      <td>1665502</td>\n",
       "      <td>3403</td>\n",
       "      <td>0</td>\n",
       "      <td>0</td>\n",
       "      <td>0.00</td>\n",
       "      <td>0</td>\n",
       "      <td>0</td>\n",
       "      <td>0</td>\n",
       "      <td>91</td>\n",
       "      <td>...</td>\n",
       "      <td>0</td>\n",
       "      <td>0.0</td>\n",
       "      <td>0</td>\n",
       "      <td>0.000000</td>\n",
       "      <td>0</td>\n",
       "      <td>0</td>\n",
       "      <td>27.0625</td>\n",
       "      <td>1</td>\n",
       "      <td>0</td>\n",
       "      <td>0.000000</td>\n",
       "    </tr>\n",
       "  </tbody>\n",
       "</table>\n",
       "<p>5 rows × 29 columns</p>\n",
       "</div>"
      ],
      "text/plain": [
       "               Id  groupId  matchId  assists  boosts  damageDealt  DBNOs  \\\n",
       "0  1eaf90ac73de72   843520     3143        1       0        68.00      0   \n",
       "1  92022479b92ce7   374293     1381        0       3       254.25      0   \n",
       "2  e2d4735f01b693  1444280      387        0       1       440.00      4   \n",
       "3  5b0bb2ecf3c824  1092281      481        0       0         0.00      0   \n",
       "5  8b3cdbefd1f408  1665502     3403        0       0         0.00      0   \n",
       "\n",
       "   headshotKills  heals  killPlace      ...       revives  rideDistance  \\\n",
       "0              0      0         47      ...             0           0.0   \n",
       "1              0     12         13      ...             0        2368.0   \n",
       "2              0      1         34      ...             0           0.0   \n",
       "3              0      0         86      ...             0           0.0   \n",
       "5              0      0         91      ...             0           0.0   \n",
       "\n",
       "   roadKills  swimDistance  teamKills  vehicleDestroys  walkDistance  \\\n",
       "0          0      0.000000          0                0      161.7500   \n",
       "1          0     15.289062          0                0     1787.0000   \n",
       "2          0      0.000000          0                0      353.5000   \n",
       "3          0      0.000000          0                0      128.7500   \n",
       "5          0      0.000000          0                0       27.0625   \n",
       "\n",
       "   weaponsAcquired  winPoints  winPlacePerc  \n",
       "0                2          0      0.775391  \n",
       "1                3          0      0.821289  \n",
       "2                2          0      0.222168  \n",
       "3                1       1471      0.021698  \n",
       "5                1          0      0.000000  \n",
       "\n",
       "[5 rows x 29 columns]"
      ]
     },
     "execution_count": 13,
     "metadata": {},
     "output_type": "execute_result"
    }
   ],
   "source": [
    "df_trn.head()"
   ]
  },
  {
   "cell_type": "markdown",
   "metadata": {
    "_uuid": "29864b46f0d8fd733b14d2ed2e7809ff9137f0a3"
   },
   "source": [
    "- The training dataset has 4.3M entries, which is not small and aloows for advanced models like GBM and NN to dominate.\n",
    "- The test dataset is only 1.9M entries\n",
    "- There are 25 features (+ the target in the train dataset)"
   ]
  },
  {
   "cell_type": "markdown",
   "metadata": {
    "_uuid": "8f85aa4008394e7dcf4efa4f429287807acfb1fa"
   },
   "source": [
    "# Feature engineering: group by teams"
   ]
  },
  {
   "cell_type": "code",
   "execution_count": 16,
   "metadata": {
    "ExecuteTime": {
     "end_time": "2018-11-01T15:50:02.491639Z",
     "start_time": "2018-11-01T15:50:02.101313Z"
    },
    "_kg_hide-input": true,
    "_uuid": "417d40a52aba715f53298fbc6dd63eed5fd555a8"
   },
   "outputs": [],
   "source": [
    "def fe(df_):\n",
    "    for s_gb, s_name in [('groupId', 'groupSize'),\n",
    "                         ('matchId', 'numPlayers')\n",
    "                        ]:\n",
    "        series = df_.groupby(s_gb).size().to_frame()\n",
    "        series.columns = [s_name]\n",
    "        df_ = df_.merge(series, left_on=s_gb, right_index=True, how='left')\n",
    "    \n",
    "    df_aggs = df_.groupby('matchId').agg({'killPlace':['max'],\n",
    "                               #'groupId': ['min']\n",
    "                              })\n",
    "    df_aggs.columns = pd.Index([e[0] + \"_\" + e[1].upper() for e in df_aggs.columns])\n",
    "    df_ = df_.merge(df_aggs, left_on='matchId', right_index=True, how='left')\n",
    "    \n",
    "    feats_add = [('rsDistance', 'rideDistance', 'swimDistance'),\n",
    "                 ('totalDistance', 'fe_rsDistance_ADD', 'walkDistance'),\n",
    "                 ('totalPoints', 'killPoints', 'winPoints'),\n",
    "                 #('', '', '')\n",
    "                ]\n",
    "    feats_sub = []\n",
    "    #feats_sub = [('groupId_DIFF', 'groupId', 'groupId_MIN')\n",
    "    #            ]\n",
    "    feats_div = [\n",
    "                 ('headshotFraction', 'headshotKills', 'kills'),\n",
    "                 ('weaponsPerMeter', 'weaponsAcquired', 'fe_totalDistance_ADD'),\n",
    "                 ('kill2win', 'killPoints', 'winPoints'),\n",
    "                 ('damage2kills', 'damageDealt', 'kills'),\n",
    "                 ('killPlace_maxPlace' , 'killPlace', 'maxPlace'),\n",
    "                ('killPlace_maxKillPlace' , 'killPlace', 'killPlace_MAX'),\n",
    "                ('killPlace_numPlayers' , 'killPlace', 'numPlayers'),\n",
    "                ('totalDistancePerTime','fe_totalDistance_ADD','matchDuration'),\n",
    "                ('walkDistancePerTime','walkDistance','matchDuration'),\n",
    "                ('matchDuration_numPlayers','matchDuration','numPlayers')\n",
    "    ]\n",
    "\n",
    "    for f_new, f1, f2 in feats_add:\n",
    "        df_['fe_' + f_new + '_ADD'] = df_[f1] + df_[f2]\n",
    "    for f_new, f1, f2 in feats_sub:\n",
    "        df_['fe_' + f_new + '_SUB'] = df_[f1] - df_[f2]\n",
    "    for f_new, f1, f2 in feats_div:\n",
    "        df_['fe_' + f_new + '_DIV'] = df_[f1] / df_[f2]\n",
    "        \n",
    "    return df_\n",
    "        \n",
    "df_trn = fe(df_trn)\n",
    "df_val = fe(df_val)\n",
    "# df_tst = fe(df_tst)"
   ]
  },
  {
   "cell_type": "code",
   "execution_count": 17,
   "metadata": {
    "ExecuteTime": {
     "end_time": "2018-11-01T15:50:05.021712Z",
     "start_time": "2018-11-01T15:50:04.996019Z"
    },
    "_uuid": "e0d421363cab25f056ca353c924e2c058ea2e43a"
   },
   "outputs": [
    {
     "data": {
      "text/html": [
       "<div>\n",
       "<style scoped>\n",
       "    .dataframe tbody tr th:only-of-type {\n",
       "        vertical-align: middle;\n",
       "    }\n",
       "\n",
       "    .dataframe tbody tr th {\n",
       "        vertical-align: top;\n",
       "    }\n",
       "\n",
       "    .dataframe thead th {\n",
       "        text-align: right;\n",
       "    }\n",
       "</style>\n",
       "<table border=\"1\" class=\"dataframe\">\n",
       "  <thead>\n",
       "    <tr style=\"text-align: right;\">\n",
       "      <th></th>\n",
       "      <th>Id</th>\n",
       "      <th>groupId</th>\n",
       "      <th>matchId</th>\n",
       "      <th>assists</th>\n",
       "      <th>boosts</th>\n",
       "      <th>damageDealt</th>\n",
       "      <th>DBNOs</th>\n",
       "      <th>headshotKills</th>\n",
       "      <th>heals</th>\n",
       "      <th>killPlace</th>\n",
       "      <th>...</th>\n",
       "      <th>fe_headshotFraction_DIV</th>\n",
       "      <th>fe_weaponsPerMeter_DIV</th>\n",
       "      <th>fe_kill2win_DIV</th>\n",
       "      <th>fe_damage2kills_DIV</th>\n",
       "      <th>fe_killPlace_maxPlace_DIV</th>\n",
       "      <th>fe_killPlace_maxKillPlace_DIV</th>\n",
       "      <th>fe_killPlace_numPlayers_DIV</th>\n",
       "      <th>fe_totalDistancePerTime_DIV</th>\n",
       "      <th>fe_walkDistancePerTime_DIV</th>\n",
       "      <th>fe_matchDuration_numPlayers_DIV</th>\n",
       "    </tr>\n",
       "  </thead>\n",
       "  <tbody>\n",
       "    <tr>\n",
       "      <th>4</th>\n",
       "      <td>c5d63a04ebad0e</td>\n",
       "      <td>172259</td>\n",
       "      <td>4936</td>\n",
       "      <td>0</td>\n",
       "      <td>2</td>\n",
       "      <td>279.00</td>\n",
       "      <td>4</td>\n",
       "      <td>0</td>\n",
       "      <td>1</td>\n",
       "      <td>10</td>\n",
       "      <td>...</td>\n",
       "      <td>0.0</td>\n",
       "      <td>0.002018</td>\n",
       "      <td>NaN</td>\n",
       "      <td>93.000000</td>\n",
       "      <td>0.344828</td>\n",
       "      <td>0.102041</td>\n",
       "      <td>0.102041</td>\n",
       "      <td>0.519382</td>\n",
       "      <td>0.519382</td>\n",
       "      <td>19.479592</td>\n",
       "    </tr>\n",
       "    <tr>\n",
       "      <th>6</th>\n",
       "      <td>03cab96432e075</td>\n",
       "      <td>1724420</td>\n",
       "      <td>4447</td>\n",
       "      <td>0</td>\n",
       "      <td>3</td>\n",
       "      <td>164.75</td>\n",
       "      <td>0</td>\n",
       "      <td>0</td>\n",
       "      <td>9</td>\n",
       "      <td>54</td>\n",
       "      <td>...</td>\n",
       "      <td>NaN</td>\n",
       "      <td>0.000886</td>\n",
       "      <td>NaN</td>\n",
       "      <td>inf</td>\n",
       "      <td>1.148936</td>\n",
       "      <td>0.580645</td>\n",
       "      <td>0.580645</td>\n",
       "      <td>3.625067</td>\n",
       "      <td>0.797001</td>\n",
       "      <td>20.075269</td>\n",
       "    </tr>\n",
       "    <tr>\n",
       "      <th>26</th>\n",
       "      <td>4caa8ebb6b2d62</td>\n",
       "      <td>196860</td>\n",
       "      <td>4032</td>\n",
       "      <td>1</td>\n",
       "      <td>0</td>\n",
       "      <td>85.25</td>\n",
       "      <td>0</td>\n",
       "      <td>0</td>\n",
       "      <td>0</td>\n",
       "      <td>68</td>\n",
       "      <td>...</td>\n",
       "      <td>NaN</td>\n",
       "      <td>0.005947</td>\n",
       "      <td>NaN</td>\n",
       "      <td>inf</td>\n",
       "      <td>1.416667</td>\n",
       "      <td>0.723404</td>\n",
       "      <td>0.723404</td>\n",
       "      <td>0.119747</td>\n",
       "      <td>0.119747</td>\n",
       "      <td>14.936170</td>\n",
       "    </tr>\n",
       "    <tr>\n",
       "      <th>29</th>\n",
       "      <td>b6ab91116d04b7</td>\n",
       "      <td>1035113</td>\n",
       "      <td>4710</td>\n",
       "      <td>0</td>\n",
       "      <td>2</td>\n",
       "      <td>100.00</td>\n",
       "      <td>0</td>\n",
       "      <td>0</td>\n",
       "      <td>0</td>\n",
       "      <td>23</td>\n",
       "      <td>...</td>\n",
       "      <td>0.0</td>\n",
       "      <td>0.000598</td>\n",
       "      <td>0.808612</td>\n",
       "      <td>100.000000</td>\n",
       "      <td>0.234694</td>\n",
       "      <td>0.234694</td>\n",
       "      <td>0.234694</td>\n",
       "      <td>2.421434</td>\n",
       "      <td>2.383780</td>\n",
       "      <td>14.091837</td>\n",
       "    </tr>\n",
       "    <tr>\n",
       "      <th>32</th>\n",
       "      <td>86592e2adf8cbe</td>\n",
       "      <td>1898243</td>\n",
       "      <td>4717</td>\n",
       "      <td>0</td>\n",
       "      <td>0</td>\n",
       "      <td>0.00</td>\n",
       "      <td>0</td>\n",
       "      <td>0</td>\n",
       "      <td>1</td>\n",
       "      <td>79</td>\n",
       "      <td>...</td>\n",
       "      <td>NaN</td>\n",
       "      <td>0.006989</td>\n",
       "      <td>NaN</td>\n",
       "      <td>NaN</td>\n",
       "      <td>1.645833</td>\n",
       "      <td>0.849462</td>\n",
       "      <td>0.849462</td>\n",
       "      <td>0.065354</td>\n",
       "      <td>0.065354</td>\n",
       "      <td>23.548387</td>\n",
       "    </tr>\n",
       "  </tbody>\n",
       "</table>\n",
       "<p>5 rows × 45 columns</p>\n",
       "</div>"
      ],
      "text/plain": [
       "                Id  groupId  matchId  assists  boosts  damageDealt  DBNOs  \\\n",
       "4   c5d63a04ebad0e   172259     4936        0       2       279.00      4   \n",
       "6   03cab96432e075  1724420     4447        0       3       164.75      0   \n",
       "26  4caa8ebb6b2d62   196860     4032        1       0        85.25      0   \n",
       "29  b6ab91116d04b7  1035113     4710        0       2       100.00      0   \n",
       "32  86592e2adf8cbe  1898243     4717        0       0         0.00      0   \n",
       "\n",
       "    headshotKills  heals  killPlace               ...                 \\\n",
       "4               0      1         10               ...                  \n",
       "6               0      9         54               ...                  \n",
       "26              0      0         68               ...                  \n",
       "29              0      0         23               ...                  \n",
       "32              0      1         79               ...                  \n",
       "\n",
       "    fe_headshotFraction_DIV  fe_weaponsPerMeter_DIV  fe_kill2win_DIV  \\\n",
       "4                       0.0                0.002018              NaN   \n",
       "6                       NaN                0.000886              NaN   \n",
       "26                      NaN                0.005947              NaN   \n",
       "29                      0.0                0.000598         0.808612   \n",
       "32                      NaN                0.006989              NaN   \n",
       "\n",
       "    fe_damage2kills_DIV  fe_killPlace_maxPlace_DIV  \\\n",
       "4             93.000000                   0.344828   \n",
       "6                   inf                   1.148936   \n",
       "26                  inf                   1.416667   \n",
       "29           100.000000                   0.234694   \n",
       "32                  NaN                   1.645833   \n",
       "\n",
       "    fe_killPlace_maxKillPlace_DIV  fe_killPlace_numPlayers_DIV  \\\n",
       "4                        0.102041                     0.102041   \n",
       "6                        0.580645                     0.580645   \n",
       "26                       0.723404                     0.723404   \n",
       "29                       0.234694                     0.234694   \n",
       "32                       0.849462                     0.849462   \n",
       "\n",
       "    fe_totalDistancePerTime_DIV  fe_walkDistancePerTime_DIV  \\\n",
       "4                      0.519382                    0.519382   \n",
       "6                      3.625067                    0.797001   \n",
       "26                     0.119747                    0.119747   \n",
       "29                     2.421434                    2.383780   \n",
       "32                     0.065354                    0.065354   \n",
       "\n",
       "    fe_matchDuration_numPlayers_DIV  \n",
       "4                         19.479592  \n",
       "6                         20.075269  \n",
       "26                        14.936170  \n",
       "29                        14.091837  \n",
       "32                        23.548387  \n",
       "\n",
       "[5 rows x 45 columns]"
      ]
     },
     "execution_count": 17,
     "metadata": {},
     "output_type": "execute_result"
    }
   ],
   "source": [
    "df_val.head()"
   ]
  },
  {
   "cell_type": "code",
   "execution_count": 18,
   "metadata": {
    "ExecuteTime": {
     "end_time": "2018-11-01T15:50:12.755101Z",
     "start_time": "2018-11-01T15:50:09.014284Z"
    },
    "_kg_hide-input": true,
    "_uuid": "e101d28e6225679a328b00c4721a47310c784304"
   },
   "outputs": [
    {
     "name": "stdout",
     "output_type": "stream",
     "text": [
      "dict_keys(['revives', 'weaponsAcquired', 'boosts', 'longestKill', 'heals', 'fe_killPlace_maxKillPlace_DIV', 'teamKills', 'numGroups', 'fe_headshotFraction_DIV', 'kills', 'fe_damage2kills_DIV', 'damageDealt', 'walkDistance', 'rideDistance', 'fe_rsDistance_ADD', 'swimDistance', 'matchDuration', 'numPlayers', 'fe_weaponsPerMeter_DIV', 'groupSize', 'rankPoints', 'vehicleDestroys', 'headshotKills', 'killPoints', 'fe_killPlace_maxPlace_DIV', 'killStreaks', 'fe_matchDuration_numPlayers_DIV', 'fe_totalDistancePerTime_DIV', 'fe_totalDistance_ADD', 'killPlace', 'fe_kill2win_DIV', 'fe_walkDistancePerTime_DIV', 'matchType', 'maxPlace', 'killPlace_MAX', 'DBNOs', 'assists', 'roadKills', 'fe_killPlace_numPlayers_DIV', 'fe_totalPoints_ADD', 'winPoints'])\n"
     ]
    }
   ],
   "source": [
    "agg_team = {c: ['mean', 'min', 'max', 'sum'] \n",
    "            for c in [c \n",
    "                      for c in df_trn.columns \n",
    "                      if c not in features_not2use \n",
    "                      and c != 'winPlacePerc']\n",
    "           }\n",
    "rnk_match = ['fe_killPlace_numPlayers_DIV_MAX', 'fe_killPlace_maxKillPlace_DIV_MAX', \n",
    "             'walkDistance_MEAN', 'walkDistance_MAX', 'boosts_MEAN', \n",
    "             'fe_totalDistance_ADD_MEAN', 'kills_MIN', \n",
    "             'fe_walkDistancePerTime_DIV_MEAN', 'fe_walkDistancePerTime_DIV_MAX', \n",
    "             'fe_totalDistancePerTime_DIV_MAX']\n",
    "\n",
    "agg_team['numGroups'] = ['size','median']\n",
    "\n",
    "print(agg_team.keys())\n",
    "\n",
    "def preprocess(df):    \n",
    "    df_gb = df.groupby(['matchId','groupId']).agg(agg_team)\n",
    "    df_gb.columns = pd.Index([e[0] + \"_\" + e[1].upper() for e in df_gb.columns])\n",
    "    df_rnk = df_gb.groupby('matchId')[rnk_match].rank(pct=True)\n",
    "    df_rnk.columns = [e + \"_RNK\" for e in df_rnk.columns]\n",
    "    df_gb = df_gb.merge(df_rnk, how='left', left_index=True, right_index=True)\n",
    "    df_gb.index = df_gb.index.droplevel(0)\n",
    "    return df_gb\n",
    "\n",
    "df_trn_gb = preprocess(df_trn)\n",
    "df_val_gb = preprocess(df_val)\n",
    "# df_tst_gb = preprocess(df_tst)\n",
    "\n",
    "y = df_trn.groupby(['matchId','groupId'])['winPlacePerc'].median()\n",
    "y.index = y.index.droplevel(0)\n",
    "# target for the ranker\n",
    "y_rnk = df_trn.groupby(['matchId', 'groupId'])['winPlacePerc'].median().groupby('matchId').rank().astype(np.int16)\n",
    "y_rnk.index = y_rnk.index.droplevel(0)"
   ]
  },
  {
   "cell_type": "markdown",
   "metadata": {
    "_uuid": "56576460176b2f621f29292cb8071670a2bd429e"
   },
   "source": [
    "# Prepare the data"
   ]
  },
  {
   "cell_type": "code",
   "execution_count": 22,
   "metadata": {
    "ExecuteTime": {
     "end_time": "2018-11-01T15:55:01.803776Z",
     "start_time": "2018-11-01T15:54:58.147007Z"
    },
    "_uuid": "8b204a9a9f5df02255b64b3c627982cdf3dd2763"
   },
   "outputs": [
    {
     "name": "stdout",
     "output_type": "stream",
     "text": [
      "Memory usage of dataframe is 363.40 MB\n",
      "Memory usage after optimization is: 214.90 MB\n",
      "Decreased by 40.9%\n",
      "Memory usage of dataframe is 129.78 MB\n",
      "Memory usage after optimization is: 92.21 MB\n",
      "Decreased by 28.9%\n"
     ]
    },
    {
     "data": {
      "text/plain": [
       "28"
      ]
     },
     "execution_count": 22,
     "metadata": {},
     "output_type": "execute_result"
    }
   ],
   "source": [
    "df_trn_2 = reduce_mem_usage(df_trn.merge(df_trn_gb, how='left', left_on='groupId', right_index=True))\n",
    "#needed to organise training data for grouping\n",
    "#df_trn_2.sort_values(by=['matchId','groupId'], inplace=True)\n",
    "# target for the players\n",
    "y_player = df_trn_2['winPlacePerc']\n",
    "df_trn_2.drop('winPlacePerc', axis=1, inplace=True)\n",
    "\n",
    "# df_tst_2 = reduce_mem_usage(df_tst.merge(df_tst_gb, how='left', left_on='groupId', right_index=True))\n",
    "df_val_2 = reduce_mem_usage(df_val.merge(df_val_gb, how='left', left_on='groupId', right_index=True))\n",
    "\n",
    "df_trn_2.drop('Id', axis=1, inplace=True)\n",
    "# df_tst_2.drop('Id', axis=1, inplace=True)\n",
    "df_val_2.drop('Id', axis=1, inplace=True)\n",
    "\n",
    "#del df_trn, df_trn_gb\n",
    "gc.collect()"
   ]
  },
  {
   "cell_type": "code",
   "execution_count": 20,
   "metadata": {
    "ExecuteTime": {
     "end_time": "2018-11-01T15:52:09.686172Z",
     "start_time": "2018-11-01T15:52:09.682869Z"
    },
    "_uuid": "e5ab3b626cbbd3664059c8f831af03939923d7e1"
   },
   "outputs": [],
   "source": [
    "g_game_trn = df_trn_2['matchId']\n",
    "g_team_trn  = df_trn_2['groupId']"
   ]
  },
  {
   "cell_type": "markdown",
   "metadata": {
    "_uuid": "c8fe98adce4e5114c26cee619431260f57aa0c44"
   },
   "source": [
    "# Train and evaluate a model\n",
    "Start by defining handy helper functions..."
   ]
  },
  {
   "cell_type": "code",
   "execution_count": 21,
   "metadata": {
    "ExecuteTime": {
     "end_time": "2018-11-01T15:52:11.606025Z",
     "start_time": "2018-11-01T15:52:11.563134Z"
    },
    "_kg_hide-input": true,
    "_uuid": "470b2148601eed76036363bac7028145954aae10"
   },
   "outputs": [],
   "source": [
    "from sklearn.model_selection import StratifiedKFold, KFold, GroupKFold\n",
    "from sklearn.base import clone, ClassifierMixin, RegressorMixin\n",
    "import lightgbm as lgb\n",
    "\n",
    "\n",
    "def learning_rate_decay_power(current_iter):\n",
    "    '''\n",
    "    The function defines learning rate deay for LGBM\n",
    "    '''\n",
    "    base_learning_rate = 0.2\n",
    "    min_lr = 5.0e-2\n",
    "    lr = base_learning_rate  * np.power(.998, current_iter)\n",
    "    return lr if lr > min_lr else min_lr\n",
    "\n",
    "\n",
    "def train_single_model(clf_, X_, y_, random_state_=314, opt_parameters_={}, fit_params_={}):\n",
    "    '''\n",
    "    A wrapper to train a model with particular parameters\n",
    "    '''\n",
    "    c = clone(clf_)\n",
    "    c.set_params(**opt_parameters_)\n",
    "    c.set_params(random_state=random_state_)\n",
    "    return c.fit(X_, y_, **fit_params_)\n",
    "\n",
    "def train_model_in_CV(model, X, y, metric, metric_args={},\n",
    "                            model_name='xmodel',\n",
    "                            seed=31416, n=5,\n",
    "                            opt_parameters_={}, fit_params_={},\n",
    "                            verbose=True,\n",
    "                            groups=None, y_eval=None):\n",
    "    # the list of classifiers for voting ensable\n",
    "    clfs = []\n",
    "    # performance \n",
    "    perf_eval = {'score_i_oof': 0,\n",
    "                 'score_i_ave': 0,\n",
    "                 'score_i_std': 0,\n",
    "                 'score_i': []\n",
    "                }\n",
    "    # full-sample oof prediction\n",
    "    y_full_oof = pd.Series(np.zeros(shape=(y.shape[0],)), \n",
    "                          index=y.index)\n",
    "    \n",
    "    sample_weight=None\n",
    "    if 'sample_weight' in metric_args:\n",
    "        sample_weight=metric_args['sample_weight']\n",
    "        \n",
    "    index_weight=None\n",
    "    if 'index_weight' in metric_args:\n",
    "        index_weight=metric_args['index_weight']\n",
    "        del metric_args['index_weight']\n",
    "        \n",
    "    doSqrt=False\n",
    "    if 'sqrt' in metric_args:\n",
    "        doSqrt=True\n",
    "        del metric_args['sqrt']\n",
    "\n",
    "    if groups is None:\n",
    "        cv = KFold(n, shuffle=True, random_state=seed) #Stratified\n",
    "    else:\n",
    "        cv = GroupKFold(n)\n",
    "    # The out-of-fold (oof) prediction for the k-1 sample in the outer CV loop\n",
    "    y_oof = pd.Series(np.zeros(shape=(X.shape[0],)), \n",
    "                      index=X.index)\n",
    "    scores = []\n",
    "    clfs = []\n",
    "\n",
    "    for n_fold, (trn_idx, val_idx) in enumerate(cv.split(X, (y!=0).astype(np.int8), groups=groups)):\n",
    "        X_trn, y_trn = X.iloc[trn_idx], y.iloc[trn_idx]\n",
    "        X_val, y_val = X.iloc[val_idx], y.iloc[val_idx]\n",
    "        \n",
    "        if 'LGBMRanker' in type(model).__name__ and groups is not None:\n",
    "            G_trn, G_val = groups.iloc[trn_idx], groups.iloc[val_idx]        \n",
    "\n",
    "        if fit_params_:\n",
    "            # use _stp data for early stopping\n",
    "            fit_params_[\"eval_set\"] = [(X_trn,y_trn), (X_val,y_val)]\n",
    "            fit_params_['verbose'] = verbose\n",
    "            if index_weight is not None:\n",
    "                fit_params_[\"sample_weight\"] = y_trn.index.map(index_weight).values\n",
    "                fit_params_[\"eval_sample_weight\"] = [None, y_val.index.map(index_weight).values]\n",
    "            if 'LGBMRanker' in type(model).__name__ and groups is not None:\n",
    "                fit_params_['group'] = G_trn.groupby(G_trn, sort=False).count()\n",
    "                fit_params_['eval_group'] = [G_trn.groupby(G_trn, sort=False).count(),\n",
    "                                             G_val.groupby(G_val, sort=False).count()]\n",
    "\n",
    "        #display(y_trn.head())\n",
    "        clf = train_single_model(model, X_trn, y_trn, 314+n_fold, opt_parameters_, fit_params_)\n",
    "\n",
    "        clfs.append(('{}{}'.format(model_name,n_fold), clf))\n",
    "        # oof predictions\n",
    "        if isinstance(clf, RegressorMixin):\n",
    "            y_oof.iloc[val_idx] = clf.predict(X_val)\n",
    "        elif isinstance(clf, ClassifierMixin):\n",
    "            y_oof.iloc[val_idx] = clf.predict_proba(X_val)[:,1]\n",
    "        else:\n",
    "            y_oof.iloc[val_idx] = clf.predict(X_val)\n",
    "        # prepare weights for evaluation\n",
    "        if sample_weight is not None:\n",
    "            metric_args['sample_weight'] = y_val.map(sample_weight)\n",
    "        elif index_weight is not None:\n",
    "            metric_args['sample_weight'] = y_val.index.map(index_weight).values\n",
    "        # prepare target values\n",
    "        y_true_tmp = y_val if 'LGBMRanker' not in type(model).__name__  and y_eval is None else y_eval.iloc[val_idx]\n",
    "        y_pred_tmp = y_oof.iloc[val_idx] if y_eval is None else y_oof.iloc[val_idx]        \n",
    "        #store evaluated metric\n",
    "        scores.append(metric(y_true_tmp, y_pred_tmp, **metric_args))\n",
    "        #cleanup\n",
    "        del X_trn, y_trn, X_val, y_val, y_true_tmp, y_pred_tmp\n",
    "\n",
    "    # Store performance info for this CV\n",
    "    if sample_weight is not None:\n",
    "        metric_args['sample_weight'] = y_oof.map(sample_weight)\n",
    "    elif index_weight is not None:\n",
    "        metric_args['sample_weight'] = y_oof.index.map(index_weight).values\n",
    "    perf_eval['score_i_oof'] = metric(y, y_oof, **metric_args)\n",
    "    perf_eval['score_i'] = scores\n",
    "    \n",
    "    if doSqrt:\n",
    "        for k in perf_eval.keys():\n",
    "            if 'score' in k:\n",
    "                perf_eval[k] = np.sqrt(perf_eval[k])\n",
    "        scores = np.sqrt(scores)\n",
    "            \n",
    "    perf_eval['score_i_ave'] = np.mean(scores)\n",
    "    perf_eval['score_i_std'] = np.std(scores)\n",
    "\n",
    "    return clfs, perf_eval, y_oof\n",
    "\n",
    "def print_perf_clf(name, perf_eval):\n",
    "    print('Performance of the model:')    \n",
    "    print('Mean(Val) score inner {} Classifier: {:.4f}+-{:.4f}'.format(name, \n",
    "                                                                      perf_eval['score_i_ave'],\n",
    "                                                                      perf_eval['score_i_std']\n",
    "                                                                     ))\n",
    "    print('Min/max scores on folds: {:.4f} / {:.4f}'.format(np.min(perf_eval['score_i']),\n",
    "                                                            np.max(perf_eval['score_i'])))\n",
    "    print('OOF score inner {} Classifier: {:.4f}'.format(name, perf_eval['score_i_oof']))\n",
    "    print('Scores in individual folds: {}'.format(perf_eval['score_i']))"
   ]
  },
  {
   "cell_type": "markdown",
   "metadata": {
    "_uuid": "c1782953ec79baf2bda4834c9c05085775cae3c4"
   },
   "source": [
    "Now let's define the parameter and model in a scalable fashion (we can add later on further models to the list and it will work out-of-the-box). \n",
    "\n",
    "The format is a dictionary with keys that are user model names and items being an array (or tuple) of:\n",
    "\n",
    "- model to be fitted;\n",
    "- additional model parameters to be set;\n",
    "- model fit parameters (they are passed to `model.fit()` call);\n",
    "- target variable."
   ]
  },
  {
   "cell_type": "code",
   "execution_count": 23,
   "metadata": {
    "ExecuteTime": {
     "end_time": "2018-11-01T15:58:45.219936Z",
     "start_time": "2018-11-01T15:58:45.189052Z"
    },
    "_kg_hide-input": true,
    "_uuid": "1ddb35cbc026b22ed8f9d7c7c11897f2a2636db9"
   },
   "outputs": [],
   "source": [
    "mdl_inputs = {\n",
    "#         # This will be with MAE loss\n",
    "#             'lgbm1_reg': (lgb.LGBMRegressor(max_depth=-1, min_child_samples=40, random_state=314, silent=True, metric='None', \n",
    "#                                         n_jobs=4, n_estimators=1000, learning_rate=0.05),\n",
    "#                  {'objective': 'mse', 'colsample_bytree': 0.75, 'min_child_weight': 10.0, 'num_leaves': 200, 'reg_alpha': 1},#, 'subsample': 0.75}, \n",
    "#                  {\"early_stopping_rounds\":20, \n",
    "#                   \"eval_metric\" : 'mae',\n",
    "#                   'eval_names': ['train', 'early_stop'],\n",
    "#                   'verbose': False, \n",
    "#                   'callbacks': [lgb.reset_parameter(learning_rate=learning_rate_decay_power)],\n",
    "#                   'categorical_feature': 'auto'},\n",
    "#                  y_player,\n",
    "#                  None\n",
    "#                 ),\n",
    "            'lgbm2_reg': (lgb.LGBMRegressor(max_depth=-1, min_child_samples=40, random_state=314, silent=True, metric='None', \n",
    "                                        n_jobs=4, n_estimators=1000, learning_rate=0.05),\n",
    "                 {'objective': 'mse', 'colsample_bytree': 0.75, 'min_child_weight': 10.0, 'num_leaves': 200, 'reg_alpha': 1},#, 'subsample': 0.75}, \n",
    "                 {\"early_stopping_rounds\":20, \n",
    "                  \"eval_metric\" : 'mae',\n",
    "                  'eval_names': ['train', 'early_stop'],\n",
    "                  'verbose': False, \n",
    "                  'callbacks': [lgb.reset_parameter(learning_rate=learning_rate_decay_power)],\n",
    "                  'categorical_feature': 'auto'},\n",
    "                 y_player,\n",
    "                 g_game_trn\n",
    "                ),\n",
    "#             'lgbm3_reg': (lgb.LGBMRegressor(max_depth=-1, min_child_samples=40, random_state=314, silent=True, metric='None', \n",
    "#                                         n_jobs=4, n_estimators=1000, learning_rate=0.05),\n",
    "#                  {'objective': 'mse', 'colsample_bytree': 0.75, 'min_child_weight': 10.0, 'num_leaves': 200, 'reg_alpha': 1},#, 'subsample': 0.75}, \n",
    "#                  {\"early_stopping_rounds\":20, \n",
    "#                   \"eval_metric\" : 'mae',\n",
    "#                   'eval_names': ['train', 'early_stop'],\n",
    "#                   'verbose': False, \n",
    "#                   'callbacks': [lgb.reset_parameter(learning_rate=learning_rate_decay_power)],\n",
    "#                   'categorical_feature': 'auto'},\n",
    "#                  y_player,\n",
    "#                  g_team_trn\n",
    "#                 ),\n",
    "       }"
   ]
  },
  {
   "cell_type": "markdown",
   "metadata": {
    "_uuid": "bb04c3bfac89f557e3c8efdcced2677bf50bd583"
   },
   "source": [
    "Do the actual model training"
   ]
  },
  {
   "cell_type": "code",
   "execution_count": 24,
   "metadata": {
    "ExecuteTime": {
     "end_time": "2018-11-01T16:10:30.375092Z",
     "start_time": "2018-11-01T15:58:54.394130Z"
    },
    "_uuid": "71d696c729fb3e5cadeedb187a85989b631f4a8b"
   },
   "outputs": [
    {
     "name": "stdout",
     "output_type": "stream",
     "text": [
      "--------------- lgbm2_reg -----------\n",
      "Training until validation scores don't improve for 20 rounds.\n",
      "Early stopping, best iteration is:\n",
      "[77]\ttrain's l1: 0.0207454\tearly_stop's l1: 0.0288787\n",
      "Training until validation scores don't improve for 20 rounds.\n",
      "Early stopping, best iteration is:\n",
      "[64]\ttrain's l1: 0.0216701\tearly_stop's l1: 0.0289675\n",
      "Training until validation scores don't improve for 20 rounds.\n",
      "Early stopping, best iteration is:\n",
      "[92]\ttrain's l1: 0.0199501\tearly_stop's l1: 0.0292069\n",
      "Performance of the model:\n",
      "Mean(Val) score inner lgbm2_reg Classifier: 0.0290+-0.0001\n",
      "Min/max scores on folds: 0.0289 / 0.0292\n",
      "OOF score inner lgbm2_reg Classifier: 0.0290\n",
      "Scores in individual folds: [0.028878743901096654, 0.028967455787180258, 0.029206896766381274]\n",
      "--------------- lgbm3_reg -----------\n",
      "Training until validation scores don't improve for 20 rounds.\n",
      "Early stopping, best iteration is:\n",
      "[243]\ttrain's l1: 0.0156223\tearly_stop's l1: 0.0277244\n",
      "Training until validation scores don't improve for 20 rounds.\n",
      "[500]\ttrain's l1: 0.0126328\tearly_stop's l1: 0.0274554\n",
      "Early stopping, best iteration is:\n",
      "[542]\ttrain's l1: 0.0123456\tearly_stop's l1: 0.027443\n",
      "Training until validation scores don't improve for 20 rounds.\n",
      "[500]\ttrain's l1: 0.0124829\tearly_stop's l1: 0.0276458\n",
      "Early stopping, best iteration is:\n",
      "[580]\ttrain's l1: 0.0119782\tearly_stop's l1: 0.0276011\n",
      "Performance of the model:\n",
      "Mean(Val) score inner lgbm3_reg Classifier: 0.0276+-0.0001\n",
      "Min/max scores on folds: 0.0274 / 0.0277\n",
      "OOF score inner lgbm3_reg Classifier: 0.0276\n",
      "Scores in individual folds: [0.02772440432843684, 0.027442978871209323, 0.027601135052510446]\n",
      "--------------- lgbm1_reg -----------\n",
      "Training until validation scores don't improve for 20 rounds.\n",
      "[500]\ttrain's l1: 0.0141666\tearly_stop's l1: 0.0202404\n",
      "[1000]\ttrain's l1: 0.0120783\tearly_stop's l1: 0.0190679\n",
      "Did not meet early stopping. Best iteration is:\n",
      "[1000]\ttrain's l1: 0.0120783\tearly_stop's l1: 0.0190679\n",
      "Training until validation scores don't improve for 20 rounds.\n",
      "[500]\ttrain's l1: 0.0142566\tearly_stop's l1: 0.0199747\n",
      "[1000]\ttrain's l1: 0.0120986\tearly_stop's l1: 0.0186909\n",
      "Did not meet early stopping. Best iteration is:\n",
      "[1000]\ttrain's l1: 0.0120986\tearly_stop's l1: 0.0186909\n",
      "Training until validation scores don't improve for 20 rounds.\n",
      "[500]\ttrain's l1: 0.0141883\tearly_stop's l1: 0.0199194\n",
      "[1000]\ttrain's l1: 0.0120825\tearly_stop's l1: 0.0187202\n",
      "Did not meet early stopping. Best iteration is:\n",
      "[1000]\ttrain's l1: 0.0120825\tearly_stop's l1: 0.0187202\n",
      "Performance of the model:\n",
      "Mean(Val) score inner lgbm1_reg Classifier: 0.0188+-0.0002\n",
      "Min/max scores on folds: 0.0187 / 0.0191\n",
      "OOF score inner lgbm1_reg Classifier: 0.0188\n",
      "Scores in individual folds: [0.019068507827973986, 0.018691225705483313, 0.018720367168601634]\n",
      "CPU times: user 45min 31s, sys: 19.6 s, total: 45min 51s\n",
      "Wall time: 11min 35s\n"
     ]
    }
   ],
   "source": [
    "%%time\n",
    "l = [c for c in df_trn_2.columns if c not in features_not2use]\n",
    "\n",
    "mdls = {}\n",
    "results = {}\n",
    "y_oofs = {}\n",
    "for name, (mdl, mdl_pars, fit_pars, y_, g_) in mdl_inputs.items():\n",
    "    print('--------------- {} -----------'.format(name))\n",
    "    mdl_, perf_eval_, y_oof_ = train_model_in_CV(mdl, df_trn_2[l],\n",
    "                                                 y_, mean_absolute_error, \n",
    "                                                          metric_args={},\n",
    "                                                          model_name=name, \n",
    "                                                          opt_parameters_=mdl_pars,\n",
    "                                                          fit_params_=fit_pars, \n",
    "                                                          n=n_cv,\n",
    "                                                          verbose=500, \n",
    "                                                          groups=g_)\n",
    "    results[name] = perf_eval_\n",
    "    mdls[name] = mdl_\n",
    "    y_oofs[name] = y_oof_\n",
    "    print_perf_clf(name, perf_eval_)"
   ]
  },
  {
   "cell_type": "markdown",
   "metadata": {
    "_uuid": "36901d783546db24e3a21673b33a7ca9b293623c"
   },
   "source": [
    "Let's plot how predictions look like"
   ]
  },
  {
   "cell_type": "code",
   "execution_count": 45,
   "metadata": {
    "ExecuteTime": {
     "end_time": "2018-10-31T09:54:45.206724Z",
     "start_time": "2018-10-31T09:54:44.708633Z"
    },
    "_uuid": "87ceda22c49754e4cbc15ff53055360dbd49e2ff"
   },
   "outputs": [
    {
     "data": {
      "text/plain": [
       "Text(0.5,0,'Predicted winPlacePerc OOF ')"
      ]
     },
     "execution_count": 45,
     "metadata": {},
     "output_type": "execute_result"
    },
    {
     "data": {
      "image/png": "[encoded data removed]",
      "text/plain": [
       "<Figure size 1080x432 with 1 Axes>"
      ]
     },
     "metadata": {},
     "output_type": "display_data"
    }
   ],
   "source": [
    "k = list(y_oofs.keys())[0]\n",
    "_ = y_oofs[k].plot('hist', bins=100, figsize=(15,6))\n",
    "plt.xlabel('Predicted winPlacePerc OOF ')"
   ]
  },
  {
   "cell_type": "markdown",
   "metadata": {
    "_uuid": "804be78620382885375e8c3a23a656614e3d545e"
   },
   "source": [
    "Note, that predictions are spilled outside of the `[0,1]` range, which is not meaningful for percentage value. **We will clip test predictions to be within the meaningful range.** This will improve the score slightly"
   ]
  },
  {
   "cell_type": "markdown",
   "metadata": {
    "_uuid": "3bd60837ec18d8a3037015befd4f3a0bc44f6b19"
   },
   "source": [
    "## Visualise importance of features"
   ]
  },
  {
   "cell_type": "code",
   "execution_count": null,
   "metadata": {
    "_kg_hide-input": true,
    "_uuid": "426b0274b32a45f5fbdc08884d81bf04b926e807"
   },
   "outputs": [],
   "source": [
    "import matplotlib.pyplot as plt\n",
    "import seaborn as sns\n",
    "\n",
    "def display_importances(feature_importance_df_, n_feat=30, silent=False, dump_strs=[], \n",
    "                        fout_name=None, title='Features (avg over folds)'):\n",
    "    '''\n",
    "    Make a plot of most important features from a tree-based model\n",
    "\n",
    "    Parameters\n",
    "    ----------\n",
    "    feature_importance_df_ : pd.DataFrame\n",
    "        The input dataframe. \n",
    "        Must contain columns `'feature'` and `'importance'`.\n",
    "        The dataframe will be first grouped by `'feature'` and the mean `'importance'` will be calculated.\n",
    "        This allows to calculate and plot importance averaged over folds, \n",
    "        when the same features appear in the dataframe as many time as there are folds in CV.\n",
    "    n_feats : int [default: 20]\n",
    "        The maximum number of the top features to be plotted\n",
    "    silent : bool [default: False]\n",
    "        Dump additionsl information, in particular the mean importances for features \n",
    "        defined by `dump_strs` and the features with zero (<1e-3) importance\n",
    "    dump_strs : list of strings [default: []]\n",
    "        Features containing either of these srings will be printed to the screen\n",
    "    fout_name : str or None [default: None]\n",
    "        The name of the file to dump the figure. \n",
    "        If `None`, no file is created (to be used in notebooks)\n",
    "    '''\n",
    "    # Plot feature importances\n",
    "    cols = feature_importance_df_[[\"feature\", \"importance\"]].groupby(\"feature\").mean().sort_values(\n",
    "            by=\"importance\", ascending=False)[:n_feat].index  \n",
    "    \n",
    "    mean_imp = feature_importance_df_[[\"feature\", \"importance\"]].groupby(\"feature\").mean()\n",
    "    df_2_neglect = mean_imp[mean_imp['importance'] < 1e-3]\n",
    "    \n",
    "    if not silent:\n",
    "        print('The list of features with 0 importance: ')\n",
    "        print(df_2_neglect.index.values.tolist())\n",
    "\n",
    "        pd.set_option('display.max_rows', 500)\n",
    "        pd.set_option('display.max_columns', 500)\n",
    "        for feat_prefix in dump_strs:\n",
    "            feat_names = [x for x in mean_imp.index if feat_prefix in x]\n",
    "            print(mean_imp.loc[feat_names].sort_values(by='importance', ascending=False))\n",
    "    del mean_imp, df_2_neglect\n",
    "    \n",
    "    best_features = feature_importance_df_.loc[feature_importance_df_.feature.isin(cols)]\n",
    "    \n",
    "    plt.figure(figsize=(8,10))\n",
    "    sns.barplot(x=\"importance\", y=\"feature\", \n",
    "                data=best_features.sort_values(by=\"importance\", ascending=False))\n",
    "    plt.title(title)\n",
    "    plt.tight_layout()\n",
    "\n",
    "    if fout_name is not None:\n",
    "        plt.savefig(fout_name)\n"
   ]
  },
  {
   "cell_type": "code",
   "execution_count": null,
   "metadata": {
    "_uuid": "b1c0d180ec81be2dcfa875c0854e3e4249aeecd8",
    "scrolled": false
   },
   "outputs": [],
   "source": [
    "display_importances(pd.DataFrame({'feature': l,#df_trn_gb.columns,\n",
    "                                  'importance': mdls['lgbm1_reg'][0][1].booster_.feature_importance('gain')}),\n",
    "                    n_feat=20,\n",
    "                    title='GAIN feature importance',\n",
    "                    fout_name='feature_importance_gain.png',\n",
    "                    dump_strs=[]#['_']\n",
    "                   )"
   ]
  },
  {
   "cell_type": "code",
   "execution_count": null,
   "metadata": {
    "_uuid": "95bfbc9c3d31a332134973300af24c0991c7f893",
    "scrolled": false
   },
   "outputs": [],
   "source": [
    "# import shap "
   ]
  },
  {
   "cell_type": "code",
   "execution_count": null,
   "metadata": {
    "_uuid": "8cd5dac04083f984d4d648dfdaab2c0890268eeb"
   },
   "outputs": [],
   "source": [
    "# explainer=shap.TreeExplainer(mdls['lgbm1_reg'][0][1])\n",
    "# shap_values = explainer.shap_values(df_trn_gb[l])\n",
    "# shap.summary_plot(shap_values, df_trn_gb, plot_type=\"bar\")"
   ]
  },
  {
   "cell_type": "code",
   "execution_count": null,
   "metadata": {
    "_uuid": "8833eafebc992435cba65190e9396cefca49a8ce"
   },
   "outputs": [],
   "source": [
    "# x = pd.Series(np.mean(np.abs(shap_values), axis=0), index=df_trn_gb.columns)"
   ]
  },
  {
   "cell_type": "markdown",
   "metadata": {
    "_uuid": "1c77dec7b90de56503e3af494fbfc6f55ab4e4f6"
   },
   "source": [
    "## Prepare submission"
   ]
  },
  {
   "cell_type": "code",
   "execution_count": 27,
   "metadata": {
    "ExecuteTime": {
     "end_time": "2018-11-01T16:13:59.638015Z",
     "start_time": "2018-11-01T16:13:36.509406Z"
    }
   },
   "outputs": [
    {
     "name": "stdout",
     "output_type": "stream",
     "text": [
      "1\n",
      "2\n",
      "0.0288\n",
      "0.0289\n",
      "0.0290\n",
      "Average for lgbm2_reg: 0.0280\n",
      "1\n",
      "2\n",
      "0.0290\n",
      "0.0290\n",
      "0.0290\n",
      "Average for lgbm3_reg: 0.0280\n",
      "1\n",
      "2\n",
      "0.0288\n",
      "0.0289\n",
      "0.0288\n",
      "Average for lgbm1_reg: 0.0280\n",
      "CPU times: user 1min 31s, sys: 810 ms, total: 1min 32s\n",
      "Wall time: 23.1 s\n"
     ]
    }
   ],
   "source": [
    "%%time\n",
    "for c in mdl_inputs:\n",
    "    print('1')\n",
    "    mdls_= mdls[c]\n",
    "    y_val = np.zeros(df_val_2.shape[0])\n",
    "    print('2')\n",
    "    for mdl_ in mdls_:\n",
    "        y_ = np.clip(mdl_[1].predict(df_val_2[l]), 0, 1)\n",
    "        y_val += y_\n",
    "        print('{:.4f}'.format(mean_absolute_error(df_val_2['winPlacePerc'], y_)))\n",
    "    y_val /= len(mdls_)\n",
    "    \n",
    "    print('Average for {}: {:.4f}'.format(c, mean_absolute_error(df_val_2['winPlacePerc'], y_val)))"
   ]
  },
  {
   "cell_type": "code",
   "execution_count": null,
   "metadata": {},
   "outputs": [],
   "source": []
  },
  {
   "cell_type": "code",
   "execution_count": null,
   "metadata": {
    "_uuid": "7bd73f0231f934fc9fc49b25f8b54a8f819e6992"
   },
   "outputs": [],
   "source": [
    "%%time\n",
    "y_subs= {}\n",
    "for c in mdl_inputs:\n",
    "    print('1')\n",
    "    mdls_= mdls[c]\n",
    "    y_sub = np.zeros(df_tst_2.shape[0])\n",
    "    print('2')\n",
    "    for mdl_ in mdls_:\n",
    "        print('+')\n",
    "        y_sub += np.clip(mdl_[1].predict(df_tst_2[l]), 0, 1)\n",
    "    y_sub /= n_cv\n",
    "    \n",
    "    y_subs[c] = y_sub"
   ]
  },
  {
   "cell_type": "code",
   "execution_count": null,
   "metadata": {
    "_uuid": "07bbca401b3481ab1bf8a634a62e872caa1044d3"
   },
   "outputs": [],
   "source": [
    "df_sub = pd.read_csv('../input/pubg-finish-placement-prediction/sample_submission_V2.csv', nrows=max_events_tst)"
   ]
  },
  {
   "cell_type": "code",
   "execution_count": null,
   "metadata": {
    "_uuid": "5578636ddbaf97b93c545158174d32d5ce2da452"
   },
   "outputs": [],
   "source": [
    "pd.DataFrame.rename?"
   ]
  },
  {
   "cell_type": "code",
   "execution_count": null,
   "metadata": {
    "_uuid": "4443854d2786d8dd07f2770f7c17e1ffa762faad"
   },
   "outputs": [],
   "source": []
  },
  {
   "cell_type": "code",
   "execution_count": null,
   "metadata": {
    "_kg_hide-input": true,
    "_uuid": "7b6231e9a078c84f9037b507105d8009c5d51e9b"
   },
   "outputs": [],
   "source": [
    "\n",
    "for c in mdl_inputs:\n",
    "    #Submission predictions\n",
    "    df_sub['winPlacePerc'] = y_subs[c]\n",
    "    df_sub.to_csv('sub_{}.csv'.format(c), index=False)\n",
    "    \n",
    "    df_sub['winPlacePerc'] = np.round(y_subs[c]*(df_tst_2['maxPlace']-1)) / (df_tst_2['maxPlace']-1)\n",
    "    df_sub.to_csv('sub_{}_gapfix.csv'.format(c), index=False)\n",
    "    #submission predictions ranked within each game\n",
    "    y_sub_ranked = df_sub.merge(df_tst_2[['groupId', 'matchId']].drop_duplicates(), \n",
    "                           left_index=True, \n",
    "                           right_on='groupId', \n",
    "                           how='left').drop('Id',axis=1).set_index(['matchId','groupId']).groupby(['matchId']).rank(pct=True)\n",
    "    df_sub['winPlacePerc'] = y_sub_ranked.values\n",
    "    df_sub.to_csv('sub_{}_ranked.csv'.format(c), index=False)\n",
    "    \n",
    "    # OOF predictions\n",
    "    oof = pd.DataFrame(index=df_trn_2.index, columns=['winPlacePerc'])\n",
    "    oof['winPlacePerc'] = y_oofs[c].values\n",
    "    oof.clip(0, 1, inplace=True)\n",
    "    print('{} MAE OOF score = {:.4f}'.format(c, mean_absolute_error(y_player, oof['winPlacePerc'])))\n",
    "    oof.to_csv('oof_{}.csv'.format(c), index=False)\n",
    "    # enforce the gap between relative places\n",
    "    oof['winPlacePerc'] = np.round(y_oofs[c]*(df_trn_2['maxPlace']-1)) / (df_trn_2['maxPlace']-1)\n",
    "    print('{} MAE OOF score (with gap enforcement) = {:.4f}'.format(c, mean_absolute_error(y_player, oof['winPlacePerc'])))\n",
    "    oof.to_csv('oof_{}_gapfix.csv'.format(c), index=False)\n",
    "    # OOF predictions ranked\n",
    "#     y_oof_ranked = (pd.concat([df_trn_2[['groupId', 'matchId']], y_oofs[c]], axis=1)\n",
    "#                     .groupby(['matchId','groupId'])[0]\n",
    "#                     .agg('mean')\n",
    "#                     .groupby('matchId')\n",
    "#                     .rank(pct=True)\n",
    "#                     .reset_index()\n",
    "#                     .rename(columns={0:'winPlacePerc'})\n",
    "#                    )\n",
    "#     #display(y_oof_ranked.head())\n",
    "#     y_oof_ranked.columns = [c if 'winPlacePerc' not in c else c+'_Rank' for c in y_oof_ranked.columns]\n",
    "#     y_oof_ranked = y_oof_ranked.merge(df_trn_2, how='left', on=['matchId','groupId'])\n",
    "#     oof['winPlacePerc'] = (df_trn_2[['groupId', 'matchId']].merge(y_oof_ranked, how='left', on=['matchId','groupId'])['winPlacePerc_Rank']).values\n",
    "#     print('{} ranked MAE OOF score = {:.4f}'.format(c, mean_absolute_error(y_player, oof['winPlacePerc'])))\n",
    "#     oof.to_csv('oof_{}_ranked.csv'.format(c), index=False)"
   ]
  },
  {
   "cell_type": "code",
   "execution_count": null,
   "metadata": {
    "_uuid": "2504ac59581a48a824f5c24e2ed746be29e8d783"
   },
   "outputs": [],
   "source": [
    "# y_oof_ranked = (pd.concat([df_trn_2[['groupId', 'matchId']], y_oofs[c]], axis=1)\n",
    "#                     .groupby(['matchId','groupId'])[0]\n",
    "#                     .agg('mean')\n",
    "#                     .groupby('matchId')\n",
    "#                     .rank(pct=True)\n",
    "#                     .reset_index()\n",
    "#                     .rename(columns={0:'winPlacePerc'})\n",
    "#                    )\n",
    "# y_oof_ranked.columns = [c if 'winPlacePerc' not in c else c+'_Rank' for c in y_oof_ranked.columns]"
   ]
  },
  {
   "cell_type": "code",
   "execution_count": null,
   "metadata": {
    "_uuid": "cb07a6de4adfcd57badea38b85ebcf7b3a2afa62"
   },
   "outputs": [],
   "source": [
    "!ls"
   ]
  },
  {
   "cell_type": "code",
   "execution_count": null,
   "metadata": {
    "_uuid": "430f614656246fdd814155e99ad6d11a134d0264"
   },
   "outputs": [],
   "source": []
  }
 ],
 "metadata": {
  "kernelspec": {
   "display_name": "Python 3",
   "language": "python",
   "name": "python3"
  },
  "language_info": {
   "codemirror_mode": {
    "name": "ipython",
    "version": 3
   },
   "file_extension": ".py",
   "mimetype": "text/x-python",
   "name": "python",
   "nbconvert_exporter": "python",
   "pygments_lexer": "ipython3",
   "version": "3.6.5"
  },
  "toc": {
   "base_numbering": 1,
   "nav_menu": {},
   "number_sections": true,
   "sideBar": true,
   "skip_h1_title": false,
   "title_cell": "Table of Contents",
   "title_sidebar": "Contents",
   "toc_cell": false,
   "toc_position": {},
   "toc_section_display": true,
   "toc_window_display": false
  }
 },
 "nbformat": 4,
 "nbformat_minor": 1
}
