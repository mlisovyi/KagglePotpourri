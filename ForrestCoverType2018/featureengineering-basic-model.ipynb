{
 "cells": [
  {
   "cell_type": "markdown",
   "metadata": {
    "_uuid": "616533c02d044371473a966e8fefdfacdb0f4984"
   },
   "source": [
    "# Contents and goals\n",
    "This kernel shows how to:\n",
    "\n",
    " - retreave the data;\n",
    " - preprocess the data (transforming One-Hot Encoding into Label Encoding);\n",
    " - visualise of the data in 1, 2 and 3 dimentions;\n",
    " - engineer new features inspired by the visualisation done in the previous step;\n",
    " - use proportion of target classes in the test data in the training and model evaluation to improve consistency between local CV and LB;\n",
    " - build various models on the train/test spit of the data and evaluate their performance. Hyper-parameters of the models are optimised in a dedicated kernel:  https://www.kaggle.com/mlisovyi/hyper-parameter-optimisation;\n",
    " - build voting classifiers and evaluated their performance in a nested cross-validation (CV);\n",
    " - prepare submissions\n",
    " \n",
    " Note, that the proportion of the different classes in test is: `0.37053 : 0.49681 : 0.05936 : 0.00103 : 0.01295 : 0.02687 : 0.03242`, as is discussed in https://www.kaggle.com/mlisovyi/class-fractions-in-the-test"
   ]
  },
  {
   "cell_type": "markdown",
   "metadata": {
    "_uuid": "d1d5ccb306f33165b11fc23e9822f08dbd1f6fd4"
   },
   "source": [
    "# General configuration and imports"
   ]
  },
  {
   "cell_type": "code",
   "execution_count": 1,
   "metadata": {
    "_uuid": "363c4db87adf90eae3efd54a999447350d0c0d1c"
   },
   "outputs": [],
   "source": [
    "# controlls the number of entries to be read in by the kernel\n",
    "# can speed up processing, is a small number if set here\n",
    "max_events = None"
   ]
  },
  {
   "cell_type": "code",
   "execution_count": 49,
   "metadata": {
    "_cell_guid": "b1076dfc-b9ad-4769-8c92-a6c4dae69d19",
    "_kg_hide-input": true,
    "_uuid": "8f2839f25d086af736a60e9eeb907d3b93b6e0e5"
   },
   "outputs": [
    {
     "name": "stdout",
     "output_type": "stream",
     "text": [
      "['sample_submission.csv.zip', 'train.csv', 'sample_submission.csv', 'test.csv', 'train.csv.zip', 'test.csv.zip']\n"
     ]
    }
   ],
   "source": [
    "import numpy as np # linear algebra\n",
    "import pandas as pd # data processing, CSV file I/O (e.g. pd.read_csv)\n",
    "import matplotlib.pyplot as plt\n",
    "from mpl_toolkits.mplot3d import Axes3D # needed for 3D scatter plots\n",
    "%matplotlib inline \n",
    "import seaborn as sns\n",
    "import gc\n",
    "import warnings\n",
    "warnings.filterwarnings(\"ignore\")\n",
    "\n",
    "#PATH='../input/'\n",
    "PATH='/home/mlisovyi/.kaggle/competitions/forest-cover-type-kernels-only/'\n",
    "\n",
    "import os\n",
    "print(os.listdir(PATH))"
   ]
  },
  {
   "cell_type": "markdown",
   "metadata": {
    "_uuid": "5196b4289e9964f7ecaf0f1920a7f2fe927dd0b5"
   },
   "source": [
    "# Access the data"
   ]
  },
  {
   "cell_type": "code",
   "execution_count": 5,
   "metadata": {
    "_cell_guid": "79c7e3d0-c299-4dcb-8224-4455121ee9b0",
    "_kg_hide-input": true,
    "_uuid": "d629ff2d2480ee46fbb7e2d37f6b5fab8052498a"
   },
   "outputs": [],
   "source": [
    "train = pd.read_csv('{}/train.csv'.format(PATH), nrows=max_events)\n",
    "test  = pd.read_csv('{}/test.csv'.format(PATH), nrows=max_events)\n",
    "\n",
    "y = train['Cover_Type']\n",
    "train.drop('Cover_Type', axis=1, inplace=True)\n",
    "\n",
    "train.drop('Id', axis=1, inplace=True)\n",
    "test.drop('Id', axis=1, inplace=True)"
   ]
  },
  {
   "cell_type": "code",
   "execution_count": 6,
   "metadata": {
    "_uuid": "2575bf209deaa003b39e43c95c51e907dd2953a7"
   },
   "outputs": [
    {
     "name": "stdout",
     "output_type": "stream",
     "text": [
      "Train shape: (15120, 54)\n",
      "Test  shape: (565892, 54)\n"
     ]
    }
   ],
   "source": [
    "print('Train shape: {}'.format(train.shape))\n",
    "print('Test  shape: {}'.format(test.shape))"
   ]
  },
  {
   "cell_type": "code",
   "execution_count": 7,
   "metadata": {
    "_uuid": "bbee752f879ab4ace9c89797d29672f65363ca13"
   },
   "outputs": [
    {
     "name": "stdout",
     "output_type": "stream",
     "text": [
      "<class 'pandas.core.frame.DataFrame'>\n",
      "RangeIndex: 15120 entries, 0 to 15119\n",
      "Columns: 54 entries, Elevation to Soil_Type40\n",
      "dtypes: int64(54)\n",
      "memory usage: 6.2 MB\n"
     ]
    }
   ],
   "source": [
    "train.info(verbose=False)"
   ]
  },
  {
   "cell_type": "markdown",
   "metadata": {
    "_uuid": "e0b2741050d95c1b7ec75f868c7d72028b4c5dea"
   },
   "source": [
    "Is the sample imbalanced?"
   ]
  },
  {
   "cell_type": "code",
   "execution_count": 8,
   "metadata": {
    "_uuid": "fce9342d04c68707f533a14d3385782f7440aa9c"
   },
   "outputs": [
    {
     "data": {
      "text/plain": [
       "7    2160\n",
       "6    2160\n",
       "5    2160\n",
       "4    2160\n",
       "3    2160\n",
       "2    2160\n",
       "1    2160\n",
       "Name: Cover_Type, dtype: int64"
      ]
     },
     "execution_count": 8,
     "metadata": {},
     "output_type": "execute_result"
    }
   ],
   "source": [
    "y.value_counts()"
   ]
  },
  {
   "cell_type": "markdown",
   "metadata": {
    "_uuid": "76d54049c41bd77596d64986617f3ba7dfab77bc"
   },
   "source": [
    "Note, that the proportion of the different classes in test is: `0.37053 : 0.49681 : 0.05936 : 0.00103 : 0.01295 : 0.02687 : 0.03242`, as is discussed in https://www.kaggle.com/mlisovyi/class-fractions-in-the-test"
   ]
  },
  {
   "cell_type": "markdown",
   "metadata": {
    "_uuid": "f88d707436d0d80295e92c75bd63470e5726fd1a"
   },
   "source": [
    "## OHE into LE"
   ]
  },
  {
   "cell_type": "markdown",
   "metadata": {
    "_uuid": "aef656370958ac53e23a69b7f9f3bcc1b035054e"
   },
   "source": [
    "Helper function to transfer One-Hot Encoding (OHE) into a Label Encoding (LE). It was taken from https://www.kaggle.com/mlisovyi/lighgbm-hyperoptimisation-with-f1-macro\n",
    "\n",
    "The reason to convert OHE into LE is that we plan to use a tree-based model and such models are dealing well with simple interger-label encoding. Note, that this way we introduce an ordering between categories, which is not there in reality, but in practice in most use cases GBMs handle it well anyway."
   ]
  },
  {
   "cell_type": "code",
   "execution_count": 9,
   "metadata": {
    "_kg_hide-input": true,
    "_uuid": "81784b6b486bf214090eb6fbed09c88c465fdb6a"
   },
   "outputs": [],
   "source": [
    "def convert_OHE2LE(df):\n",
    "    tmp_df = df.copy(deep=True)\n",
    "    for s_ in ['Soil_Type', 'Wilderness_Area']:\n",
    "        cols_s_ = [f_ for f_ in df.columns if f_.startswith(s_)]\n",
    "        sum_ohe = tmp_df[cols_s_].sum(axis=1).unique()\n",
    "        #deal with those OHE, where there is a sum over columns == 0\n",
    "        if 0 in sum_ohe:\n",
    "            print('The OHE in {} is incomplete. A new column will be added before label encoding'\n",
    "                  .format(s_))\n",
    "            # dummy colmn name to be added\n",
    "            col_dummy = s_+'_dummy'\n",
    "            # add the column to the dataframe\n",
    "            tmp_df[col_dummy] = (tmp_df[cols_s_].sum(axis=1) == 0).astype(np.int8)\n",
    "            # add the name to the list of columns to be label-encoded\n",
    "            cols_s_.append(col_dummy)\n",
    "            # proof-check, that now the category is complete\n",
    "            sum_ohe = tmp_df[cols_s_].sum(axis=1).unique()\n",
    "            if 0 in sum_ohe:\n",
    "                 print(\"The category completion did not work\")\n",
    "        tmp_df[s_ + '_LE'] = tmp_df[cols_s_].idxmax(axis=1).str.replace(s_,'').astype(np.uint16)\n",
    "        tmp_df.drop(cols_s_, axis=1, inplace=True)\n",
    "    return tmp_df\n",
    "\n",
    "\n",
    "\n",
    "def train_test_apply_func(train_, test_, func_):\n",
    "    xx = pd.concat([train_, test_])\n",
    "    xx_func = func_(xx)\n",
    "    train_ = xx_func.iloc[:train_.shape[0], :]\n",
    "    test_  = xx_func.iloc[train_.shape[0]:, :]\n",
    "\n",
    "    del xx, xx_func\n",
    "    return train_, test_"
   ]
  },
  {
   "cell_type": "code",
   "execution_count": 10,
   "metadata": {
    "_uuid": "c3b296532fc774332272c125301edc78764401ff"
   },
   "outputs": [],
   "source": [
    "train_x, test_x = train_test_apply_func(train, test, convert_OHE2LE)"
   ]
  },
  {
   "cell_type": "markdown",
   "metadata": {
    "_uuid": "b5ed710b9f1715c98af4ff18d7a9b106081830b6"
   },
   "source": [
    "One little caveat: looking through the OHE, `Soil_Type 7, 15`, are present in the test, but not in the training data"
   ]
  },
  {
   "cell_type": "markdown",
   "metadata": {
    "_uuid": "2186f6b4d38681d35139c5f044c4198c5cb45dec"
   },
   "source": [
    "The head of the training dataset"
   ]
  },
  {
   "cell_type": "code",
   "execution_count": 11,
   "metadata": {
    "_uuid": "fdc8e01240a6ecfe910f36d3835452c5e09904ab"
   },
   "outputs": [
    {
     "data": {
      "text/html": [
       "<div>\n",
       "<style scoped>\n",
       "    .dataframe tbody tr th:only-of-type {\n",
       "        vertical-align: middle;\n",
       "    }\n",
       "\n",
       "    .dataframe tbody tr th {\n",
       "        vertical-align: top;\n",
       "    }\n",
       "\n",
       "    .dataframe thead th {\n",
       "        text-align: right;\n",
       "    }\n",
       "</style>\n",
       "<table border=\"1\" class=\"dataframe\">\n",
       "  <thead>\n",
       "    <tr style=\"text-align: right;\">\n",
       "      <th></th>\n",
       "      <th>Elevation</th>\n",
       "      <th>Aspect</th>\n",
       "      <th>Slope</th>\n",
       "      <th>Horizontal_Distance_To_Hydrology</th>\n",
       "      <th>Vertical_Distance_To_Hydrology</th>\n",
       "      <th>Horizontal_Distance_To_Roadways</th>\n",
       "      <th>Hillshade_9am</th>\n",
       "      <th>Hillshade_Noon</th>\n",
       "      <th>Hillshade_3pm</th>\n",
       "      <th>Horizontal_Distance_To_Fire_Points</th>\n",
       "      <th>Soil_Type_LE</th>\n",
       "      <th>Wilderness_Area_LE</th>\n",
       "    </tr>\n",
       "  </thead>\n",
       "  <tbody>\n",
       "    <tr>\n",
       "      <th>0</th>\n",
       "      <td>2596</td>\n",
       "      <td>51</td>\n",
       "      <td>3</td>\n",
       "      <td>258</td>\n",
       "      <td>0</td>\n",
       "      <td>510</td>\n",
       "      <td>221</td>\n",
       "      <td>232</td>\n",
       "      <td>148</td>\n",
       "      <td>6279</td>\n",
       "      <td>29</td>\n",
       "      <td>1</td>\n",
       "    </tr>\n",
       "    <tr>\n",
       "      <th>1</th>\n",
       "      <td>2590</td>\n",
       "      <td>56</td>\n",
       "      <td>2</td>\n",
       "      <td>212</td>\n",
       "      <td>-6</td>\n",
       "      <td>390</td>\n",
       "      <td>220</td>\n",
       "      <td>235</td>\n",
       "      <td>151</td>\n",
       "      <td>6225</td>\n",
       "      <td>29</td>\n",
       "      <td>1</td>\n",
       "    </tr>\n",
       "    <tr>\n",
       "      <th>2</th>\n",
       "      <td>2804</td>\n",
       "      <td>139</td>\n",
       "      <td>9</td>\n",
       "      <td>268</td>\n",
       "      <td>65</td>\n",
       "      <td>3180</td>\n",
       "      <td>234</td>\n",
       "      <td>238</td>\n",
       "      <td>135</td>\n",
       "      <td>6121</td>\n",
       "      <td>12</td>\n",
       "      <td>1</td>\n",
       "    </tr>\n",
       "    <tr>\n",
       "      <th>3</th>\n",
       "      <td>2785</td>\n",
       "      <td>155</td>\n",
       "      <td>18</td>\n",
       "      <td>242</td>\n",
       "      <td>118</td>\n",
       "      <td>3090</td>\n",
       "      <td>238</td>\n",
       "      <td>238</td>\n",
       "      <td>122</td>\n",
       "      <td>6211</td>\n",
       "      <td>30</td>\n",
       "      <td>1</td>\n",
       "    </tr>\n",
       "    <tr>\n",
       "      <th>4</th>\n",
       "      <td>2595</td>\n",
       "      <td>45</td>\n",
       "      <td>2</td>\n",
       "      <td>153</td>\n",
       "      <td>-1</td>\n",
       "      <td>391</td>\n",
       "      <td>220</td>\n",
       "      <td>234</td>\n",
       "      <td>150</td>\n",
       "      <td>6172</td>\n",
       "      <td>29</td>\n",
       "      <td>1</td>\n",
       "    </tr>\n",
       "  </tbody>\n",
       "</table>\n",
       "</div>"
      ],
      "text/plain": [
       "   Elevation  Aspect  Slope  Horizontal_Distance_To_Hydrology  \\\n",
       "0       2596      51      3                               258   \n",
       "1       2590      56      2                               212   \n",
       "2       2804     139      9                               268   \n",
       "3       2785     155     18                               242   \n",
       "4       2595      45      2                               153   \n",
       "\n",
       "   Vertical_Distance_To_Hydrology  Horizontal_Distance_To_Roadways  \\\n",
       "0                               0                              510   \n",
       "1                              -6                              390   \n",
       "2                              65                             3180   \n",
       "3                             118                             3090   \n",
       "4                              -1                              391   \n",
       "\n",
       "   Hillshade_9am  Hillshade_Noon  Hillshade_3pm  \\\n",
       "0            221             232            148   \n",
       "1            220             235            151   \n",
       "2            234             238            135   \n",
       "3            238             238            122   \n",
       "4            220             234            150   \n",
       "\n",
       "   Horizontal_Distance_To_Fire_Points  Soil_Type_LE  Wilderness_Area_LE  \n",
       "0                                6279            29                   1  \n",
       "1                                6225            29                   1  \n",
       "2                                6121            12                   1  \n",
       "3                                6211            30                   1  \n",
       "4                                6172            29                   1  "
      ]
     },
     "execution_count": 11,
     "metadata": {},
     "output_type": "execute_result"
    }
   ],
   "source": [
    "train_x.head()"
   ]
  },
  {
   "cell_type": "markdown",
   "metadata": {
    "_uuid": "dda35609e2dc56484f5fd66cc92b61ebfede515d"
   },
   "source": [
    "## Plot distributions of individual features"
   ]
  },
  {
   "cell_type": "code",
   "execution_count": 12,
   "metadata": {
    "_kg_hide-input": true,
    "_uuid": "4ebac2d0b7b22978fe07be0f0f99b6f14924cedc"
   },
   "outputs": [
    {
     "data": {
      "image/png": "[encoded data removed]",
      "text/plain": [
       "<Figure size 1152x864 with 12 Axes>"
      ]
     },
     "metadata": {},
     "output_type": "display_data"
    }
   ],
   "source": [
    "train_x.hist(figsize=(16,12),bins=40)\n",
    "plt.show()"
   ]
  },
  {
   "cell_type": "markdown",
   "metadata": {
    "_uuid": "0f80ee44039e2cdfa32e9f4789535ab6e3909375"
   },
   "source": [
    "Note the spike at `Hillshade_3pm==0` that was originally pointed out by @aguschin in https://github.com/aguschin/kaggle/blob/master/forestCoverType_featuresEngineering.ipynb\n",
    "\n",
    "### How do feature distributions look in the test sample?"
   ]
  },
  {
   "cell_type": "code",
   "execution_count": 13,
   "metadata": {
    "_kg_hide-input": true,
    "_uuid": "06403ba7bb10d6dbeecc4f6f2f2586802f4d2c03"
   },
   "outputs": [
    {
     "data": {
      "image/png": "[encoded data removed]",
      "text/plain": [
       "<Figure size 1152x864 with 12 Axes>"
      ]
     },
     "metadata": {},
     "output_type": "display_data"
    }
   ],
   "source": [
    "test_x.hist(figsize=(16,12), bins=40)\n",
    "plt.show()"
   ]
  },
  {
   "cell_type": "markdown",
   "metadata": {
    "_uuid": "a3fbee5da05a6fc9349faec1a763e04bdab1689d"
   },
   "source": [
    "Most distributions look similar, but note that **`Elevation` profile is totally different between train and test samples**. There are also minor differences in `Soil_Type`. \n",
    "\n",
    "The little spike at `Hillshade_3pm==0` is also present in the test sample.\n",
    "\n",
    "## Can we reproduce the test distributions? \n",
    "How will the training dataset look like if we apply the mixing from the test sample?"
   ]
  },
  {
   "cell_type": "code",
   "execution_count": 12,
   "metadata": {
    "_uuid": "ece9067e737b1489c5c473ba02b9e1f9ec41c1fe"
   },
   "outputs": [
    {
     "data": {
      "image/png": "[encoded data removed]",
      "text/plain": [
       "<Figure size 1152x864 with 12 Axes>"
      ]
     },
     "metadata": {},
     "output_type": "display_data"
    }
   ],
   "source": [
    "test_weight_orig_map = {1: 0.37053, 2: 0.49681, 3: 0.05936, 4:0.00103, 5: 0.01295, 6: 0.02687, 7: 0.03242}\n",
    "train_x.hist(figsize=(16,12),bins=40, weights=y.map(test_weight_orig_map))\n",
    "plt.show()"
   ]
  },
  {
   "cell_type": "markdown",
   "metadata": {
    "_uuid": "0a4059c3b2c6cf5a40839841dbfdb48f6ab5f15d"
   },
   "source": [
    "Yahoo! **Application of weights allows to reproduce the distributions of variables in the submission sample very closely.**"
   ]
  },
  {
   "cell_type": "markdown",
   "metadata": {
    "_uuid": "acb32dc5fe28a114c6f5cb99ff87fa015dcea16b"
   },
   "source": [
    "## Aspect shape\n",
    "Let's parametrise `Aspect` feature, which looks like a cosine function. **We will not use it, but it is fun :)**"
   ]
  },
  {
   "cell_type": "code",
   "execution_count": null,
   "metadata": {
    "_kg_hide-input": true,
    "_uuid": "8fd7dfca62fb45e6b2d5aa8f4d38fdf06827bf34"
   },
   "outputs": [],
   "source": [
    "# Parametrise aspect function using a simle fit closely following solution from https://stackoverflow.com/a/16716964/9640384\n",
    "y_, x_, _ = plt.hist(test_x['Aspect'], bins=30)\n",
    "\n",
    "t = x_[:-1] + np.diff(x_)/2\n",
    "data = y_\n",
    "\n",
    "from scipy.optimize import leastsq\n",
    "\n",
    "#def func_aspect(x)\n",
    "\n",
    "guess_mean = np.mean(y_)\n",
    "guess_std = np.std(y_)\n",
    "guess_phase = 0\n",
    "guess_freq = np.pi/360\n",
    "\n",
    "optimize_func = lambda x: (x[0]*np.cos(x[1]*t+x[2]) + x[3] - data)/np.sqrt(data)\n",
    "est_amp, est_freq, est_phase, est_mean = leastsq(optimize_func, [guess_std, guess_freq, guess_phase, guess_mean])[0]\n",
    "\n",
    "fine_t = np.arange(0,max(t),0.1)\n",
    "data_fit = est_amp*np.cos(est_freq*fine_t+est_phase)+est_mean\n",
    "data_first_guess = guess_std*np.cos(guess_freq*fine_t+guess_phase) + guess_mean\n",
    "\n",
    "plt.plot(fine_t, data_first_guess, label='first guess')\n",
    "plt.plot(fine_t, data_fit, label='after fitting')\n",
    "plt.xlabel('Aspect')\n",
    "plt.legend()\n",
    "plt.show()\n",
    "\n",
    "print('Fit parameters: \\n Amplitude = {:.1f}\\n Frequency = {:.4f}\\n Phase shift = {:.4f}\\n Pedestal = {:.1f}'.format(est_amp, est_freq, est_phase, est_mean))"
   ]
  },
  {
   "cell_type": "markdown",
   "metadata": {
    "_uuid": "94ed232d9fbfd549d10a7bd75a0885d97d1f79a2"
   },
   "source": [
    "# How to impute Hillside_3pm?\n",
    "Let's follow the proposal by @jmcminis in [this post](https://www.kaggle.com/c/forest-cover-type-prediction/discussion/10693#62731):"
   ]
  },
  {
   "cell_type": "code",
   "execution_count": null,
   "metadata": {
    "_kg_hide-input": true,
    "_uuid": "f0d3d306ee26c7afa4648a6d9165f31f3b771e09"
   },
   "outputs": [],
   "source": [
    "def plot3D_hillshade(X_, y_, x_str='Aspect', y_str='Slope', z_str='Hillshade_3pm', figsize=(17,8)):\n",
    "    fig = plt.figure(figsize=figsize)\n",
    "    ax = plt.axes(projection='3d')\n",
    "\n",
    "    p = ax.scatter(X_[x_str], X_[y_str], X_[z_str], c=(y_ if y_ is not None else X_[z_str]))\n",
    "    _ = ax.set_xlabel(x_str)\n",
    "    _ = ax.set_ylabel(y_str)\n",
    "    _ = ax.set_zlabel(z_str)\n",
    "    plt.colorbar(p, ax=ax)"
   ]
  },
  {
   "cell_type": "markdown",
   "metadata": {
    "_kg_hide-input": true,
    "_uuid": "9639aa36aec954e99ae8af613bf9b015cecc8389"
   },
   "source": [
    "Train: sample"
   ]
  },
  {
   "cell_type": "code",
   "execution_count": null,
   "metadata": {
    "_uuid": "b61d991dfff6e0743d69a7c264abe9952c3a0925"
   },
   "outputs": [],
   "source": [
    "plot3D_hillshade(train_x, None, z_str='Hillshade_3pm')\n",
    "_ = plt.title('TRAIN sample')"
   ]
  },
  {
   "cell_type": "markdown",
   "metadata": {
    "_uuid": "50cfe30056cff5c7f58a229e1fb38f7e9948ce72"
   },
   "source": [
    "Test sample:"
   ]
  },
  {
   "cell_type": "code",
   "execution_count": null,
   "metadata": {
    "_kg_hide-input": true,
    "_uuid": "f7b8f55b2ba5133b9ea10c441b4de100674f30ac"
   },
   "outputs": [],
   "source": [
    "plot3D_hillshade(test_x, None, z_str='Hillshade_3pm')\n",
    "_ = plt.title('TEST sample')"
   ]
  },
  {
   "cell_type": "markdown",
   "metadata": {
    "_uuid": "028d54c2e7621a5e059ad813d046d690cd192478"
   },
   "source": [
    "We see that the location of the `Hillshade_3pm==0` events is the same between train and test samples. The best way would be to parametrise `Hillshade_3pm` as a function of `Aspect` and `Slope`. But this requires parametric form, that is not trivial. \n",
    "\n",
    "The simpler solution is to **run KNN algorithm and assign the `Hillshade_3pm` values for these tricky events  using `Aspect` and `Slope` as inputs**. Note, that one would want to do it on the data subset used for training only and predict with such learned model for the test/validation subset as well as for the submission dataset. The same applies for a CV loop\n",
    "\n",
    "The following suits only as an illustration and proof-of-consept"
   ]
  },
  {
   "cell_type": "code",
   "execution_count": null,
   "metadata": {
    "_kg_hide-input": true,
    "_uuid": "b09120e8fabfcb91fef051cd0c6b84ca83d5d549"
   },
   "outputs": [],
   "source": [
    "# define a grid for visualisation\n",
    "x_aspect = np.linspace(0, 360, 360)\n",
    "x_slope  = np.linspace(0, 60, 60)\n",
    "grid_aspect, grid_slope = np.meshgrid(x_aspect, x_slope)\n",
    "grid_aspect = grid_aspect.ravel()\n",
    "grid_slope = grid_slope.ravel()\n",
    "\n",
    "# a simplified version of `plot3D_hillshade` function\n",
    "def plot3D_basic(x, y, z, figsize=(17,8)):\n",
    "    fig = plt.figure(figsize=figsize)\n",
    "    ax = plt.axes(projection='3d')\n",
    "    p = ax.scatter(x, y, z, c=z)\n",
    "    plt.colorbar(p, ax=ax)\n",
    "\n",
    "# select the training data with non-zero `Hillshade_3pm`\n",
    "train_nonzero_3pm = train_x.query('Hillshade_3pm >= 1')\n",
    "    \n",
    "# train a KNN model on the full train set for illustration purpose only\n",
    "from sklearn.neighbors import KNeighborsRegressor\n",
    "k=100\n",
    "knn = KNeighborsRegressor(n_neighbors=k).fit(train_nonzero_3pm[['Aspect', 'Slope']], \n",
    "                                             train_nonzero_3pm['Hillshade_3pm'])\n",
    "#predict on the predefined grid for plotting\n",
    "preds_3pm = knn.predict(pd.DataFrame({'Aspect': grid_aspect,\n",
    "                                      'Slope':  grid_slope}))\n",
    "#Do the final plot\n",
    "plot3D_basic(grid_aspect, grid_slope, preds_3pm)\n",
    "_ = plt.title('KNN: {}'.format(k))"
   ]
  },
  {
   "cell_type": "markdown",
   "metadata": {
    "_uuid": "888fa92feb15f2cb6810af27769533be5f43ff2f"
   },
   "source": [
    "# How do other Hillside_ variables look like?"
   ]
  },
  {
   "cell_type": "code",
   "execution_count": null,
   "metadata": {
    "_uuid": "bb3c74fa34475ceb0b4702caf93c0345ebb7ea89"
   },
   "outputs": [],
   "source": [
    "plot3D_hillshade(train_x, None, z_str='Hillshade_Noon')"
   ]
  },
  {
   "cell_type": "code",
   "execution_count": null,
   "metadata": {
    "_uuid": "c0c48aa313eb8b703979fc45b192476c61ab584a"
   },
   "outputs": [],
   "source": [
    "plot3D_hillshade(train_x, None, z_str='Hillshade_9am')"
   ]
  },
  {
   "cell_type": "code",
   "execution_count": null,
   "metadata": {
    "_uuid": "23b8feb881fb7277161585567be04b4cbc83b02a"
   },
   "outputs": [],
   "source": [
    "plot3D_hillshade(train_x, None, x_str='Hillshade_9am', y_str='Hillshade_Noon', z_str='Hillshade_3pm')"
   ]
  },
  {
   "cell_type": "markdown",
   "metadata": {
    "_uuid": "41ae11ae8ff4d4a61dad34bef8e8e812a97ed572"
   },
   "source": [
    "## Interactive 3D plots\n",
    "At the moment `cufflinks` do not support `plotly>=3.0.0` (see [issue #119 on github](https://github.com/santosjorge/cufflinks/issues/119)) and kaggle docker image has `plotly==3.1.1`. So cufflinks are useless.  \n",
    "\n",
    "Writing directly in plotly is combersome, so this section is commented out for the time being"
   ]
  },
  {
   "cell_type": "code",
   "execution_count": null,
   "metadata": {
    "_uuid": "cca41b2a33c4780f7aee161e6bb763b339fc5b30"
   },
   "outputs": [],
   "source": [
    "# import plotly\n",
    "# import plotly.plotly as py\n",
    "# import plotly.graph_objs as go\n",
    "# plotly.offline.init_notebook_mode(connected=True)\n",
    "# import cufflinks as cf"
   ]
  },
  {
   "cell_type": "code",
   "execution_count": null,
   "metadata": {
    "_uuid": "95d42a69127a6c7ea1e39bc8a426dcfa716db4fd"
   },
   "outputs": [],
   "source": [
    "# train_x.iplot(kind='scatter3D', x='Aspect', y='Slope', z='Hillshade_3pm', bgcolor='yellowgreen')"
   ]
  },
  {
   "cell_type": "code",
   "execution_count": null,
   "metadata": {
    "_uuid": "58f3193790d661de5a7d430c340a21fb9167a7fe"
   },
   "outputs": [],
   "source": [
    "#plotly.__version__"
   ]
  },
  {
   "cell_type": "markdown",
   "metadata": {
    "_uuid": "405e6497f971fb25ed7e9815ecdcceb453faf475"
   },
   "source": [
    "# EDA\n",
    "The scatter-plot implementation and visualisation come from https://github.com/aguschin/kaggle/blob/master/forestCoverType_featuresEngineering.ipynb. The plotting function will highlight different target classes with different colours."
   ]
  },
  {
   "cell_type": "code",
   "execution_count": null,
   "metadata": {
    "_kg_hide-input": true,
    "_uuid": "aa8fb71bfb8bb1c5bc3e0f8b48db6e66bd3702d6"
   },
   "outputs": [],
   "source": [
    "def plotc(c1, c2, labels, size=10, doGrid=True):\n",
    "    fig = plt.figure(figsize=(16,8))\n",
    "\n",
    "    plt.scatter(c1, c2, c=labels.values, s=size)\n",
    "    plt.colorbar()\n",
    "    plt.xlabel(c1.name)\n",
    "    plt.ylabel(c2.name)\n",
    "    if doGrid:\n",
    "        plt.grid(True)"
   ]
  },
  {
   "cell_type": "code",
   "execution_count": null,
   "metadata": {
    "_uuid": "9e1a76de5e1195abc79d828d1fa7f8d2508d35b2",
    "scrolled": false
   },
   "outputs": [],
   "source": [
    "plotc(train_x['Vertical_Distance_To_Hydrology'],  train_x['Elevation'], y, size=10)"
   ]
  },
  {
   "cell_type": "markdown",
   "metadata": {
    "_uuid": "b3b92b2a0d2d14b184970af1c161940d9e30b758"
   },
   "source": [
    "These inclined structures indicate a linear dependence between the two variables. However, such linear dependence is hard to capture with decision trees, so one typicaly introduces linear combinations of such features"
   ]
  },
  {
   "cell_type": "code",
   "execution_count": null,
   "metadata": {
    "_uuid": "e102b8d189652c8078bd46bc577bd7f2b54de994"
   },
   "outputs": [],
   "source": [
    "plotc(train_x['Vertical_Distance_To_Hydrology'], train_x['Elevation']-train_x['Vertical_Distance_To_Hydrology'], y, size=10)"
   ]
  },
  {
   "cell_type": "markdown",
   "metadata": {
    "_uuid": "ace28d00aa82053bd677a1f350abb0e35568744e"
   },
   "source": [
    "With such new feature it will be much easier for a decision tree to separate between classes with cuts on the X axis. \n",
    "This shows the importance of the difference variables"
   ]
  },
  {
   "cell_type": "code",
   "execution_count": null,
   "metadata": {
    "_uuid": "503c8afca4e50731cb542ac11df37e211154679b"
   },
   "outputs": [],
   "source": [
    "plotc(train_x['Horizontal_Distance_To_Hydrology'], train_x['Elevation'],   y)"
   ]
  },
  {
   "cell_type": "markdown",
   "metadata": {
    "_uuid": "e0eeacc1d2936f1eebfc07de87bda91f70084a55"
   },
   "source": [
    "Here there is also a linear dependence, but it is weaker than what we saw before. We use the linear combination developed by @aguschin:"
   ]
  },
  {
   "cell_type": "code",
   "execution_count": null,
   "metadata": {
    "_uuid": "e29da7f44942437f833c2d0a8f87352a94bec41e"
   },
   "outputs": [],
   "source": [
    "plotc(train_x['Horizontal_Distance_To_Hydrology'], train_x['Elevation']- train_x['Horizontal_Distance_To_Hydrology']*0.2,  y)"
   ]
  },
  {
   "cell_type": "markdown",
   "metadata": {
    "_uuid": "aed67336822ef1348f33ba4080c92056375ae994"
   },
   "source": [
    "# Let's do actual Feature engineering"
   ]
  },
  {
   "cell_type": "code",
   "execution_count": 14,
   "metadata": {
    "_kg_hide-input": true,
    "_uuid": "941935f4e9e5eed0c25211f481ffc0bdc5f99cdf"
   },
   "outputs": [],
   "source": [
    "def preprocess(df_):\n",
    "    #df_.drop('Elevation', axis=1, inplace=True)\n",
    "    df_['fe_E_Min_02HDtH'] = df_['Elevation']- df_['Horizontal_Distance_To_Hydrology']*0.2\n",
    "    df_['fe_Distance_To_Hydrology'] = np.sqrt(df_['Horizontal_Distance_To_Hydrology']**2 + \n",
    "                                              df_['Vertical_Distance_To_Hydrology']**2)\n",
    "    \n",
    "    feats_sub = [('E_Min_VDtH', 'Elevation', 'Vertical_Distance_To_Hydrology'),\n",
    "                 ('HD_Hydrology_Min_Roadways', 'Horizontal_Distance_To_Hydrology', 'Horizontal_Distance_To_Roadways'),\n",
    "                 ('HD_Hydrology_Min_Fire', 'Horizontal_Distance_To_Hydrology', 'Horizontal_Distance_To_Fire_Points'),\n",
    "                 ('Hillshade_9am_Min_Noon', 'Hillshade_9am', 'Hillshade_Noon'),\n",
    "                 ('Hillshade_Noon_Min_3pm', 'Hillshade_Noon', 'Hillshade_3pm'),\n",
    "                 ('Hillshade_9am_Min_3pm', 'Hillshade_9am', 'Hillshade_3pm')\n",
    "                ]\n",
    "    feats_add = [('Elevation_Add_VDtH', 'Elevation', 'Vertical_Distance_To_Hydrology')\n",
    "                ]\n",
    "    \n",
    "    for f_new, f1, f2 in feats_sub:\n",
    "        df_['fe_' + f_new] = df_[f1] - df_[f2]\n",
    "    for f_new, f1, f2 in feats_add:\n",
    "        df_['fe_' + f_new] = df_[f1] + df_[f2]\n",
    "        \n",
    "    # A few composite variables\n",
    "    df_['fe_Hillshade_Ratio1'] = (df_['fe_Hillshade_9am_Min_Noon'] / df_['fe_Hillshade_Noon_Min_3pm']).clip(lower=-5, upper=2)\n",
    "    df_['fe_Hillshade_Ratio2'] = (df_['fe_Hillshade_9am_Min_3pm']  / df_['Hillshade_Noon']).clip(lower=-2, upper=2)\n",
    "        \n",
    "    # The feature is advertised in https://douglas-fraser.com/forest_cover_management.pdf\n",
    "    df_['fe_Shade9_Mul_VDtH'] = df_['Hillshade_9am'] * df_['Vertical_Distance_To_Hydrology']\n",
    "    \n",
    "    # Features inherited from https://www.kaggle.com/leannelong3/r-random-forest\n",
    "    df_['Elevation_bins50'] = np.floor_divide(df_['Elevation'], 50)\n",
    "    df_['fe_Horizontal_Distance_To_Roadways_Log'] = np.log1p(df_['Horizontal_Distance_To_Roadways'])\n",
    "\n",
    "    # this mapping comes from https://archive.ics.uci.edu/ml/machine-learning-databases/covtype/covtype.info\n",
    "    climatic_zone = {}\n",
    "    geologic_zone = {}\n",
    "    for i in range(1,41):\n",
    "        if i <= 6:\n",
    "            climatic_zone[i] = 2\n",
    "            geologic_zone[i] = 7\n",
    "        elif i <= 8:\n",
    "            climatic_zone[i] = 3\n",
    "            geologic_zone[i] = 5\n",
    "        elif i == 9:\n",
    "            climatic_zone[i] = 4\n",
    "            geologic_zone[i] = 2\n",
    "        elif i <= 13:\n",
    "            climatic_zone[i] = 4\n",
    "            geologic_zone[i] = 7\n",
    "        elif i <= 15:\n",
    "            climatic_zone[i] = 5\n",
    "            geologic_zone[i] = 1\n",
    "        elif i <= 17:\n",
    "            climatic_zone[i] = 6\n",
    "            geologic_zone[i] = 1\n",
    "        elif i == 18:\n",
    "            climatic_zone[i] = 6\n",
    "            geologic_zone[i] = 7\n",
    "        elif i <= 21:\n",
    "            climatic_zone[i] = 7\n",
    "            geologic_zone[i] = 1\n",
    "        elif i <= 23:\n",
    "            climatic_zone[i] = 7\n",
    "            geologic_zone[i] = 2\n",
    "        elif i <= 34:\n",
    "            climatic_zone[i] = 7\n",
    "            geologic_zone[i] = 7\n",
    "        else:\n",
    "            climatic_zone[i] = 8\n",
    "            geologic_zone[i] = 7\n",
    "            \n",
    "    df_['Climatic_zone_LE'] = df_['Soil_Type_LE'].map(climatic_zone).astype(np.uint8)\n",
    "    df_['Geologic_zone_LE'] = df_['Soil_Type_LE'].map(geologic_zone).astype(np.uint8)\n",
    "    \n",
    "    for c in df_.columns:\n",
    "        if c.startswith('fe_'):\n",
    "            df_[c] = df_[c].astype(np.float32)\n",
    "    return df_"
   ]
  },
  {
   "cell_type": "code",
   "execution_count": 15,
   "metadata": {
    "_uuid": "42c3309fcabc6b481984a2e03509b383698392af"
   },
   "outputs": [],
   "source": [
    "train_x = preprocess(train_x)\n",
    "test_x = preprocess(test_x)"
   ]
  },
  {
   "cell_type": "code",
   "execution_count": 16,
   "metadata": {
    "_kg_hide-input": true,
    "_uuid": "1a822452c8e807a1c907eaf8a035457063c19ae8"
   },
   "outputs": [],
   "source": [
    "# test_x.hist(figsize=(16,12),bins=40)\n",
    "# plt.show()"
   ]
  },
  {
   "cell_type": "code",
   "execution_count": 17,
   "metadata": {
    "_kg_hide-input": true,
    "_uuid": "6920699c5f830b01275e2441698530dc731db9e1"
   },
   "outputs": [],
   "source": [
    "# train_x.hist(figsize=(16,12),bins=40)\n",
    "# plt.show()"
   ]
  },
  {
   "cell_type": "markdown",
   "metadata": {
    "_uuid": "86ad5d7d4292e43d9d4286d148cf4356be23b64e"
   },
   "source": [
    "# To be continued..."
   ]
  },
  {
   "cell_type": "markdown",
   "metadata": {
    "_uuid": "e0d4e6071e23750d7804db00fb83316651f87ffb"
   },
   "source": [
    "# Optimise various classifiers"
   ]
  },
  {
   "cell_type": "code",
   "execution_count": 18,
   "metadata": {
    "_uuid": "03b46c6db6ce788be24e9ecba73afd15362beed9"
   },
   "outputs": [],
   "source": [
    "from sklearn.ensemble import RandomForestClassifier, ExtraTreesClassifier\n",
    "from sklearn.metrics import accuracy_score, confusion_matrix, classification_report\n",
    "from sklearn.model_selection import train_test_split, KFold, StratifiedKFold\n",
    "from sklearn.model_selection import RandomizedSearchCV, GridSearchCV\n",
    "from  sklearn.linear_model import LogisticRegression\n",
    "import lightgbm as lgb"
   ]
  },
  {
   "cell_type": "markdown",
   "metadata": {
    "_uuid": "0736858eadff87e723063d84a51a90edb3f17ebc"
   },
   "source": [
    "Some of the models (LightGBM in particular) expect the labels to start from 0"
   ]
  },
  {
   "cell_type": "code",
   "execution_count": 19,
   "metadata": {
    "_uuid": "5c712a0b7adb411215207ef4c126934efa40fb85"
   },
   "outputs": [],
   "source": [
    "y = y-1"
   ]
  },
  {
   "cell_type": "markdown",
   "metadata": {
    "_uuid": "49a4f86863b87ead420f2556fc98f9cf06e180ff"
   },
   "source": [
    "The train/test split is used in simple model training"
   ]
  },
  {
   "cell_type": "code",
   "execution_count": 20,
   "metadata": {
    "_uuid": "f1d406d0588bf959c4c76e1057db1acfbe576188"
   },
   "outputs": [],
   "source": [
    "X_train, X_test, y_train, y_test = train_test_split(train_x, y, test_size=0.15, random_state=315, stratify=None)"
   ]
  },
  {
   "cell_type": "markdown",
   "metadata": {
    "_uuid": "db49c17a98929c70511d8fd7ba9aa0823ffecc31"
   },
   "source": [
    "These are the weights that correspond to the test/submission class mixture. using these will allow to adjust importance of mistakes on different classes"
   ]
  },
  {
   "cell_type": "code",
   "execution_count": 21,
   "metadata": {
    "_uuid": "f65eddad4cb19c11b8de0dbdb6494f2063f5969d"
   },
   "outputs": [],
   "source": [
    "test_weight_map = {0: 0.37053, 1: 0.49681, 2: 0.05936, 3:0.00103, 4: 0.01295, 5: 0.02687,6 : 0.03242}"
   ]
  },
  {
   "cell_type": "markdown",
   "metadata": {
    "_uuid": "7aedbb5646be5574a003d46faef12bb7aed91300"
   },
   "source": [
    "Various machine-learning models to be used to model the data"
   ]
  },
  {
   "cell_type": "code",
   "execution_count": 72,
   "metadata": {
    "_uuid": "0a97420c99db2876bcd3af3966fcc0357cda9d46"
   },
   "outputs": [],
   "source": [
    "def learning_rate_decay_power_0995(current_iter):\n",
    "    base_learning_rate = 0.15\n",
    "    lr = base_learning_rate  * np.power(.995, current_iter)\n",
    "    return lr if lr > 1e-2 else 1e-2\n",
    "\n",
    "clf_inputs = {'rf': (RandomForestClassifier(n_estimators=200, max_depth=1, random_state=314, n_jobs=4),\n",
    "               {'max_depth': 30}, \n",
    "               {}),\n",
    "        'rf_test': (RandomForestClassifier(n_estimators=200, max_depth=1, random_state=314, n_jobs=4,\n",
    "                                           class_weight=test_weight_map),\n",
    "               {'max_depth': 30}, \n",
    "               {}),\n",
    "        'xt200': (ExtraTreesClassifier(n_estimators=400, criterion='entropy', max_depth=1, max_features='auto',random_state=314, n_jobs=4),\n",
    "               {'max_depth': 25},\n",
    "               {}),\n",
    "        'xt200_test': (ExtraTreesClassifier(n_estimators=400, criterion='entropy', max_depth=1, max_features='auto',random_state=314, n_jobs=4,\n",
    "                                            class_weight=test_weight_map),\n",
    "               {'max_depth': 25},\n",
    "               {}),\n",
    "        'lgbm': (lgb.LGBMClassifier(max_depth=-1, min_child_samples=400, \n",
    "                                 random_state=314, silent=True, metric='None', \n",
    "                                 n_jobs=4, n_estimators=5000, learning_rate=0.1), \n",
    "                 {'loss': 'multiclass', 'colsample_bytree': 0.75, 'min_child_weight': 1, 'num_leaves': 20, 'subsample': 0.75}, \n",
    "                 {'eval_set': [(X_train, y_train), (X_test, y_test)], \n",
    "                  'eval_names': ['train', 'early_stop'],\n",
    "                  'eval_metric': 'multi_error', 'verbose':500, 'early_stopping_rounds':100, \n",
    "                  'callbacks':[lgb.reset_parameter(learning_rate=learning_rate_decay_power_0995)]}\n",
    "                ),\n",
    "        'lgbm_test': (lgb.LGBMClassifier(max_depth=-1, min_child_samples=400, \n",
    "                                 random_state=314, silent=True, metric='None', \n",
    "                                 n_jobs=4, n_estimators=5000, learning_rate=0.1,\n",
    "                                        class_weight=test_weight_map), \n",
    "                 {'loss': 'multiclass', 'colsample_bytree': 0.75, 'min_child_weight': 1, 'num_leaves': 20, 'subsample': 0.75}, \n",
    "                 {'eval_set': [(X_train, y_train), (X_test, y_test)], \n",
    "                  'eval_names': ['train', 'early_stop'],\n",
    "                  'eval_class_weight': [{}, test_weight_map],\n",
    "                  'eval_metric': 'multi_error', 'verbose':500, 'early_stopping_rounds':100, \n",
    "                  'callbacks':[lgb.reset_parameter(learning_rate=learning_rate_decay_power_0995)]}\n",
    "                )\n",
    "       }"
   ]
  },
  {
   "cell_type": "code",
   "execution_count": null,
   "metadata": {
    "_uuid": "1ba7fa403dabfbfb7f340922fd20ec5dcc008d59"
   },
   "outputs": [],
   "source": [
    "clfs = {}\n",
    "for name, (clf, clf_pars, fit_pars) in clf_inputs.items():\n",
    "    print('--------------- {} -----------'.format(name))\n",
    "    clf.set_params(**clf_pars)\n",
    "    clf = clf.fit(X_train, y_train, **fit_pars)\n",
    "    acc_pars={}\n",
    "    print('{}: with/without weight  train = {:.4f}/{:.4f}, test = {:.4f}/{:.4f}'.format(name,\n",
    "        accuracy_score(y_train, clf.predict(X_train), sample_weight=y_train.map(test_weight_map)),\n",
    "        accuracy_score(y_train, clf.predict(X_train)),\n",
    "        accuracy_score(y_test,  clf.predict(X_test), sample_weight=y_test.map(test_weight_map)),\n",
    "        accuracy_score(y_test,  clf.predict(X_test))\n",
    "                                                     )\n",
    "         )\n",
    "    clfs[name] = clf"
   ]
  },
  {
   "cell_type": "markdown",
   "metadata": {
    "_uuid": "d3afbfd0373c1e4a3363a8661e8b0d4430222257"
   },
   "source": [
    "## Feature importances in the tree models\n",
    "Note that all models report different order of importance"
   ]
  },
  {
   "cell_type": "code",
   "execution_count": null,
   "metadata": {
    "_kg_hide-input": true,
    "_uuid": "b8b0096950c4faff1dbbfaffab1c38b1e1a42fdb"
   },
   "outputs": [],
   "source": [
    "def display_importances(feature_importance_df_, n_feat=30, silent=False, dump_strs=[], fout_name=None):\n",
    "    '''\n",
    "    Make a plot of most important features from a tree-based model\n",
    "\n",
    "    Parameters\n",
    "    ----------\n",
    "    feature_importance_df_ : pd.DataFrame\n",
    "        The input dataframe. \n",
    "        Must contain columns `'feature'` and `'importance'`.\n",
    "        The dataframe will be first grouped by `'feature'` and the mean `'importance'` will be calculated.\n",
    "        This allows to calculate and plot importance averaged over folds, \n",
    "        when the same features appear in the dataframe as many time as there are folds in CV.\n",
    "    n_feats : int [default: 20]\n",
    "        The maximum number of the top features to be plotted\n",
    "    silent : bool [default: False]\n",
    "        Dump additionsl information, in particular the mean importances for features \n",
    "        defined by `dump_strs` and the features with zero (<1e-3) importance\n",
    "    dump_strs : list of strings [default: []]\n",
    "        Features containing either of these srings will be printed to the screen\n",
    "    fout_name : str or None [default: None]\n",
    "        The name of the file to dump the figure. \n",
    "        If `None`, no file is created (to be used in notebooks)\n",
    "    '''\n",
    "    # Plot feature importances\n",
    "    cols = feature_importance_df_[[\"feature\", \"importance\"]].groupby(\"feature\").mean().sort_values(\n",
    "            by=\"importance\", ascending=False)[:n_feat].index  \n",
    "    \n",
    "    mean_imp = feature_importance_df_[[\"feature\", \"importance\"]].groupby(\"feature\").mean()\n",
    "    df_2_neglect = mean_imp[mean_imp['importance'] < 1e-3]\n",
    "    \n",
    "    if not silent:\n",
    "        print('The list of features with 0 importance: ')\n",
    "        print(df_2_neglect.index.values.tolist())\n",
    "\n",
    "        pd.set_option('display.max_rows', 500)\n",
    "        pd.set_option('display.max_columns', 500)\n",
    "        for feat_prefix in dump_strs:\n",
    "            feat_names = [x for x in mean_imp.index if feat_prefix in x]\n",
    "            print(mean_imp.loc[feat_names].sort_values(by='importance', ascending=False))\n",
    "    del mean_imp, df_2_neglect\n",
    "    \n",
    "    best_features = feature_importance_df_.loc[feature_importance_df_.feature.isin(cols)]\n",
    "    \n",
    "    plt.figure(figsize=(8,10))\n",
    "    sns.barplot(x=\"importance\", y=\"feature\", \n",
    "                data=best_features.sort_values(by=\"importance\", ascending=False))\n",
    "    plt.title('Features (avg over folds)')\n",
    "    plt.tight_layout()\n",
    "\n",
    "    if fout_name is not None:\n",
    "        plt.savefig(fout_name)"
   ]
  },
  {
   "cell_type": "code",
   "execution_count": null,
   "metadata": {
    "_uuid": "3e231720b332efd087885cb7aa9d497eeecfbb16",
    "scrolled": false
   },
   "outputs": [],
   "source": [
    "display_importances(pd.DataFrame({'feature': train_x.columns,\n",
    "                                  'importance': clfs['xt200_test'].feature_importances_}),\n",
    "                    silent=True)"
   ]
  },
  {
   "cell_type": "code",
   "execution_count": null,
   "metadata": {
    "_kg_hide-input": true,
    "_kg_hide-output": true,
    "_uuid": "5240defd63826072d64a307f4e1e71529cf6f2f6"
   },
   "outputs": [],
   "source": [
    "display_importances(pd.DataFrame({'feature': train_x.columns,\n",
    "                                  'importance': clfs['xt200'].feature_importances_}),\n",
    "                    silent=True)"
   ]
  },
  {
   "cell_type": "code",
   "execution_count": null,
   "metadata": {
    "_uuid": "476aa681b36278c3c0f4807a90a874b22fd905cb"
   },
   "outputs": [],
   "source": [
    "display_importances(pd.DataFrame({'feature': train_x.columns,\n",
    "                                  'importance': clfs['rf_test'].feature_importances_}),\n",
    "                    silent=True)"
   ]
  },
  {
   "cell_type": "code",
   "execution_count": null,
   "metadata": {
    "_kg_hide-input": true,
    "_kg_hide-output": true,
    "_uuid": "79484a7f4637cabeb5f36db95c6edf89ebd9e18a"
   },
   "outputs": [],
   "source": [
    "display_importances(pd.DataFrame({'feature': train_x.columns,\n",
    "                                  'importance': clfs['rf'].feature_importances_}),\n",
    "                    silent=True)"
   ]
  },
  {
   "cell_type": "code",
   "execution_count": null,
   "metadata": {
    "_uuid": "79cbe23e8e5515fab27a88a95af6cd299cd3d89b"
   },
   "outputs": [],
   "source": [
    "display_importances(pd.DataFrame({'feature': train_x.columns,\n",
    "                                  'importance': clfs['lgbm_test'].feature_importances_}),\n",
    "                    silent=True)"
   ]
  },
  {
   "cell_type": "code",
   "execution_count": null,
   "metadata": {
    "_kg_hide-input": true,
    "_kg_hide-output": true,
    "_uuid": "159442425be1370d50a182da5280a312c7008cac"
   },
   "outputs": [],
   "source": [
    "display_importances(pd.DataFrame({'feature': train_x.columns,\n",
    "                                  'importance': clfs['lgbm'].feature_importances_}),\n",
    "                    silent=True)"
   ]
  },
  {
   "cell_type": "code",
   "execution_count": null,
   "metadata": {
    "_kg_hide-input": true,
    "_kg_hide-output": true,
    "_uuid": "7d5f7c513a6cfe57891475f0db86669a31950986"
   },
   "outputs": [],
   "source": [
    "display_importances(pd.DataFrame({'feature': train_x.columns,\n",
    "                                  'importance': clfs['lgbm_test'].booster_.feature_importance('gain')}),\n",
    "                    silent=True)"
   ]
  },
  {
   "cell_type": "markdown",
   "metadata": {
    "_uuid": "0b88add385bce7d7d48b43d37ecba58e7dcf9417"
   },
   "source": [
    "# Feature importance with SHAP\n"
   ]
  },
  {
   "cell_type": "code",
   "execution_count": null,
   "metadata": {
    "_uuid": "d5364434e1d8493b791b50ccab9f16d30859ef71"
   },
   "outputs": [],
   "source": [
    "import shap\n",
    "shap_values = shap.TreeExplainer(clfs['lgbm'].booster_).shap_values(X_test)\n",
    "shap.summary_plot(shap_values, X_test, plot_type='bar')"
   ]
  },
  {
   "cell_type": "markdown",
   "metadata": {
    "_uuid": "86d9caa711cdd9b89fb3976520c9e44fab88da5f"
   },
   "source": [
    "# Voting classifier with nested CV evaluation"
   ]
  },
  {
   "cell_type": "code",
   "execution_count": 23,
   "metadata": {
    "_kg_hide-input": true,
    "_uuid": "cc9c4f3dc9b66791ca517137531cee1fb1aa4395"
   },
   "outputs": [],
   "source": [
    "from sklearn.ensemble import VotingClassifier\n",
    "from sklearn.preprocessing import LabelEncoder\n",
    "\n",
    "class VotingPrefitClassifier(VotingClassifier):\n",
    "    '''\n",
    "    This implements the VotingClassifier with prefitted classifiers\n",
    "    X is NOT used, so it can be fit only any data\n",
    "    '''\n",
    "    def fit(self, X, y, sample_weight=None, **fit_params):\n",
    "        self.estimators_ = [x[1] for x in self.estimators]\n",
    "        self.le_ = LabelEncoder().fit(y)\n",
    "        self.classes_ = self.le_.classes_\n",
    "        \n",
    "        return self"
   ]
  },
  {
   "cell_type": "code",
   "execution_count": 24,
   "metadata": {
    "_uuid": "cae8d94a12eb02b8f54af1e3b8c5b7d87d063b04"
   },
   "outputs": [],
   "source": [
    "# clf_inputs = {\n",
    "#         'xt200_test': (ExtraTreesClassifier(n_estimators=200, max_depth=1, max_features='auto',random_state=314, n_jobs=4,\n",
    "#                                             class_weight=test_weight_map),\n",
    "#                {'max_depth': 25},\n",
    "#                {})\n",
    "#        }"
   ]
  },
  {
   "cell_type": "code",
   "execution_count": 75,
   "metadata": {},
   "outputs": [],
   "source": [
    "clf_inputs = {\n",
    "        'lgbm_test': (lgb.LGBMClassifier(max_depth=-1, min_child_samples=400, \n",
    "                                 random_state=314, silent=True, metric='None', \n",
    "                                 n_jobs=4, n_estimators=5000, learning_rate=0.1,\n",
    "                                        class_weight=test_weight_map), \n",
    "                 {'loss': 'multiclass', 'colsample_bytree': 0.75, 'min_child_weight': 1, 'num_leaves': 20, 'subsample': 0.75}, \n",
    "                 {'eval_set': [(X_train, y_train), (X_test, y_test)], \n",
    "                  'eval_names': ['train', 'early_stop'],\n",
    "                  'eval_class_weight': [{}, test_weight_map],\n",
    "                  'eval_metric': 'multi_error', 'verbose':500, 'early_stopping_rounds':100, \n",
    "                  'callbacks':[lgb.reset_parameter(learning_rate=learning_rate_decay_power_0995)]}\n",
    "                )\n",
    "       }"
   ]
  },
  {
   "cell_type": "code",
   "execution_count": 76,
   "metadata": {
    "_kg_hide-input": true,
    "_uuid": "ec89c3b6241b26625ba17fa4ff3ec205d1cace95"
   },
   "outputs": [],
   "source": [
    "from sklearn.model_selection import StratifiedKFold\n",
    "from sklearn.base import clone\n",
    "\n",
    "def train_single_model(clf_, X_, y_, random_state_=314, opt_parameters_={}, fit_params_={}):\n",
    "    c = clone(clf_)\n",
    "    c.set_params(**opt_parameters_)\n",
    "    c.set_params(random_state=random_state_)\n",
    "    return c.fit(X_, y_, **fit_params_)\n",
    "\n",
    "def train_model_in_nestedCV(model, X, y, metric, metric_args={},\n",
    "                            model_name='xmodel',\n",
    "                            inner_seed=31416, inner_n=10, outer_seed=314, outer_n=10,\n",
    "                            opt_parameters_={}, fit_params_={},\n",
    "                            verbose=True):\n",
    "    # the list of classifiers for voting ensable\n",
    "    clfs = []\n",
    "    # performance \n",
    "    perf_eval = {'score_i_oof': [],\n",
    "                 'score_i_ave': [],\n",
    "                 'score_i_std': [],\n",
    "                 'score_i_early_stop_ave': [],\n",
    "                 'score_o_early_stop': [],\n",
    "                 'score_o_early_stop_vc_w0_soft': [],\n",
    "                 'score_o_early_stop_vc_w0_hard': []\n",
    "                }\n",
    "    # full-sample oof prediction\n",
    "    y_full_oof = pd.Series(np.zeros(shape=(y.shape[0],)), \n",
    "                          index=y.index)\n",
    "    \n",
    "    if 'sample_weight' in metric_args:\n",
    "        sample_weight=metric_args['sample_weight']\n",
    "\n",
    "    outer_cv = StratifiedKFold(outer_n, shuffle=True, random_state=outer_seed)\n",
    "    for n_outer_fold, (outer_trn_idx, outer_val_idx) in enumerate(outer_cv.split(X,y)):\n",
    "        print('--- Outer loop iteration: {} ---'.format(n_outer_fold))\n",
    "        X_out, y_out = X.iloc[outer_trn_idx], y.iloc[outer_trn_idx]\n",
    "        X_stp, y_stp = X.iloc[outer_val_idx], y.iloc[outer_val_idx]\n",
    "\n",
    "        inner_cv = StratifiedKFold(inner_n, shuffle=True, random_state=inner_seed+n_outer_fold)\n",
    "        # The out-of-fold (oof) prediction for the k-1 sample in the outer CV loop\n",
    "        y_outer_oof = pd.Series(np.zeros(shape=(X_out.shape[0],)), \n",
    "                          index=X_out.index)\n",
    "        scores_inner = []\n",
    "        clfs_inner = []\n",
    "\n",
    "        for n_inner_fold, (inner_trn_idx, inner_val_idx) in enumerate(inner_cv.split(X_out,y_out)):\n",
    "            X_trn, y_trn = X_out.iloc[inner_trn_idx], y_out.iloc[inner_trn_idx]\n",
    "            X_val, y_val = X_out.iloc[inner_val_idx], y_out.iloc[inner_val_idx]\n",
    "\n",
    "            if fit_params_:\n",
    "                # use _stp data for early stopping\n",
    "                fit_params_[\"eval_set\"] = [(X_trn,y_trn), (X_stp,y_stp)]\n",
    "                fit_params_['verbose'] = False\n",
    "\n",
    "            clf = train_single_model(model, X_trn, y_trn, 314+n_inner_fold, opt_parameters_, fit_params_)\n",
    "\n",
    "            clfs_inner.append(('{}{}_inner'.format(model_name,n_inner_fold), clf))\n",
    "            # evaluate performance\n",
    "            y_outer_oof.iloc[inner_val_idx] = clf.predict(X_val)\n",
    "            if 'sample_weight' in metric_args:\n",
    "                metric_args['sample_weight'] = y_val.map(sample_weight)\n",
    "            scores_inner.append(metric(y_val, y_outer_oof.iloc[inner_val_idx], **metric_args))\n",
    "            #cleanup\n",
    "            del X_trn, y_trn, X_val, y_val\n",
    "\n",
    "        # Store performance info for this outer fold\n",
    "        if 'sample_weight' in metric_args:\n",
    "            metric_args['sample_weight'] = y_outer_oof.map(sample_weight)\n",
    "        perf_eval['score_i_oof'].append(metric(y_out, y_outer_oof, **metric_args))\n",
    "        perf_eval['score_i_ave'].append(np.mean(scores_inner))\n",
    "        perf_eval['score_i_std'].append(np.std(scores_inner))\n",
    "        \n",
    "        # Do the predictions for early-stop sub-sample for comparison with VotingPrefitClassifier\n",
    "        if 'sample_weight' in metric_args:\n",
    "            metric_args['sample_weight'] = y_stp.map(sample_weight)\n",
    "        score_inner_early_stop = [metric(y_stp, clf_.predict(X_stp), **metric_args)\n",
    "                                   for _,clf_ in clfs_inner]\n",
    "        perf_eval['score_i_early_stop_ave'].append(np.mean(score_inner_early_stop))\n",
    "        \n",
    "        # Record performance of Voting classifiers\n",
    "        w = np.array(scores_inner)\n",
    "        for w_, w_name_ in [(None, '_w0')#,\n",
    "                            #(w/w.sum(), '_w1'),\n",
    "                            #((w**2)/np.sum(w**2), '_w2')\n",
    "                           ]:\n",
    "            vc = VotingPrefitClassifier(clfs_inner, weights=w_).fit(X_stp, y_stp)\n",
    "            for vote_type in ['soft', 'hard']:\n",
    "                vc.voting = vote_type\n",
    "                if 'sample_weight' in metric_args:\n",
    "                    metric_args['sample_weight'] = y_stp.map(sample_weight)\n",
    "                perf_eval['score_o_early_stop_vc{}_{}'.format(w_name_, vote_type)].append(metric(y_stp, vc.predict(X_stp), **metric_args))\n",
    "\n",
    "        if fit_params_:\n",
    "            # Train main model for the voting average\n",
    "            fit_params_[\"eval_set\"] = [(X_out,y_out), (X_stp,y_stp)]\n",
    "            if verbose:\n",
    "                fit_params_['verbose'] = 200\n",
    "        #print('Fit the final model on the outer loop iteration: ')\n",
    "        clf = train_single_model(model, X_out, y_out, 314+n_outer_fold, opt_parameters_, fit_params_)\n",
    "        if 'sample_weight' in metric_args:\n",
    "            metric_args['sample_weight'] = y_stp.map(sample_weight)\n",
    "        perf_eval['score_o_early_stop'].append(metric(y_stp, clf.predict(X_stp), **metric_args))\n",
    "        clfs.append(('{}{}'.format(model_name,n_outer_fold), clf))\n",
    "        y_full_oof.iloc[outer_val_idx] = clf.predict(X_stp)\n",
    "        # cleanup\n",
    "        del inner_cv, X_out, y_out, X_stp, y_stp, clfs_inner\n",
    "\n",
    "    return clfs, perf_eval, y_full_oof\n",
    "\n",
    "def print_nested_perf_clf(name, perf_eval):\n",
    "    print('Performance of the inner-loop model (the two should agree):')\n",
    "    print('  Mean(mean(Val)) score inner {} Classifier: {:.4f}+-{:.4f}'.format(name, \n",
    "                                                                      np.mean(perf_eval['score_i_ave']),\n",
    "                                                                      np.std(perf_eval['score_i_ave'])\n",
    "                                                                     ))\n",
    "    print('  Mean(mean(EarlyStop)) score inner {} Classifier: {:.4f}+-{:.4f}'.format(name, \n",
    "                                                                      np.mean(perf_eval['score_i_early_stop_ave']),\n",
    "                                                                      np.std(perf_eval['score_i_early_stop_ave'])\n",
    "                                                                     ))\n",
    "    print('Mean(inner OOF) score inner {} Classifier: {:.4f}+-{:.4f}'.format(name, \n",
    "                                                                       np.mean(perf_eval['score_i_oof']), \n",
    "                                                                       np.std(perf_eval['score_i_oof'])\n",
    "                                                                      ))\n",
    "    print('Mean(EarlyStop) score outer {} Classifier: {:.4f}+-{:.4f}'.format(name, \n",
    "                                                                      np.mean(perf_eval['score_o_early_stop']),\n",
    "                                                                      np.std(perf_eval['score_o_early_stop'])\n",
    "                                                                     ))\n",
    "    print('Mean(EarlyStop) outer VotingPrefit SOFT: {:.4f}+-{:.4f}'.format(np.mean(perf_eval['score_o_early_stop_vc_w0_soft']),\n",
    "                                                                           np.std(perf_eval['score_o_early_stop_vc_w0_soft'])                                                                    \n",
    "                                                                    ))\n",
    "    print('Mean(EarlyStop) outer VotingPrefit HARD: {:.4f}+-{:.4f}'.format(np.mean(perf_eval['score_o_early_stop_vc_w0_hard']),\n",
    "                                                                           np.std(perf_eval['score_o_early_stop_vc_w0_hard'])\n",
    "                                                                    ))"
   ]
  },
  {
   "cell_type": "code",
   "execution_count": 77,
   "metadata": {
    "_uuid": "813738dcdb3b94d86f8593f1e642cef5ebcb1a98",
    "scrolled": false
   },
   "outputs": [
    {
     "name": "stdout",
     "output_type": "stream",
     "text": [
      "--------------- lgbm_test -----------\n",
      "--- Outer loop iteration: 0 ---\n",
      "--- Outer loop iteration: 1 ---\n",
      "--- Outer loop iteration: 2 ---\n",
      "--- Outer loop iteration: 3 ---\n",
      "--- Outer loop iteration: 4 ---\n",
      "--- Outer loop iteration: 5 ---\n",
      "--- Outer loop iteration: 6 ---\n",
      "--- Outer loop iteration: 7 ---\n",
      "--- Outer loop iteration: 8 ---\n",
      "--- Outer loop iteration: 9 ---\n",
      "Performance of the inner-loop model (the two should agree):\n",
      "  Mean(mean(Val)) score inner lgbm_test Classifier: 0.7670+-0.0034\n",
      "  Mean(mean(EarlyStop)) score inner lgbm_test Classifier: 0.7777+-0.0115\n",
      "Mean(inner OOF) score inner lgbm_test Classifier: 0.5254+-0.0225\n",
      "Mean(EarlyStop) score outer lgbm_test Classifier: 0.7801+-0.0157\n",
      "Mean(EarlyStop) outer VotingPrefit SOFT: 0.7765+-0.0144\n",
      "Mean(EarlyStop) outer VotingPrefit HARD: 0.7821+-0.0153\n",
      "Outer OOF score lgbm_test Classifier: 0.7801\n"
     ]
    }
   ],
   "source": [
    "for k in [name for name in clf_inputs if '_test' not in name]:\n",
    "    del clf_inputs[k]\n",
    "\n",
    "clfss = {}\n",
    "vcs = {}\n",
    "results = {}\n",
    "for name, (clf, clf_pars, fit_pars) in clf_inputs.items():\n",
    "    print('--------------- {} -----------'.format(name))\n",
    "    clfs_, perf_eval, y_full_oof = train_model_in_nestedCV(clf, train_x, y, accuracy_score, \n",
    "                                                          metric_args={} if '_test' not in name else {'sample_weight': test_weight_map},\n",
    "                                                          model_name=name, \n",
    "                                                          opt_parameters_=clf_pars,\n",
    "                                                          fit_params_=fit_pars, \n",
    "                                                          inner_n=10, outer_n=10,\n",
    "                                                          verbose=False)\n",
    "    results[name] = perf_eval\n",
    "    clfss[name] = clfs_\n",
    "    ws = [(None, '_w0')#,\n",
    "      #(w/w.sum(), '_w1'),\n",
    "      #((w**2)/np.sum(w**2), '_w2')\n",
    "     ]\n",
    "    vcs[name] = {}\n",
    "    for w_, w_name_ in ws:\n",
    "        vcs[name]['vc{}'.format(w_name_)] = VotingPrefitClassifier(clfs_, weights=w_).fit(train_x, y)\n",
    "\n",
    "    print_nested_perf_clf(name, perf_eval)\n",
    "    print('Outer OOF score {} Classifier: {:.4f}'.format(name, accuracy_score(y, y_full_oof, sample_weight=y.map(test_weight_map))))\n",
    "    "
   ]
  },
  {
   "cell_type": "code",
   "execution_count": 71,
   "metadata": {
    "_uuid": "ef99d1697b76c35619467f671da7024bba246087"
   },
   "outputs": [
    {
     "data": {
      "text/html": [
       "<div>\n",
       "<style scoped>\n",
       "    .dataframe tbody tr th:only-of-type {\n",
       "        vertical-align: middle;\n",
       "    }\n",
       "\n",
       "    .dataframe tbody tr th {\n",
       "        vertical-align: top;\n",
       "    }\n",
       "\n",
       "    .dataframe thead th {\n",
       "        text-align: right;\n",
       "    }\n",
       "</style>\n",
       "<table border=\"1\" class=\"dataframe\">\n",
       "  <thead>\n",
       "    <tr style=\"text-align: right;\">\n",
       "      <th></th>\n",
       "      <th>score_i_ave</th>\n",
       "      <th>score_i_early_stop_ave</th>\n",
       "      <th>score_i_oof</th>\n",
       "      <th>score_i_std</th>\n",
       "      <th>score_o_early_stop</th>\n",
       "      <th>score_o_early_stop_vc_w0_hard</th>\n",
       "      <th>score_o_early_stop_vc_w0_soft</th>\n",
       "    </tr>\n",
       "  </thead>\n",
       "  <tbody>\n",
       "    <tr>\n",
       "      <th>0</th>\n",
       "      <td>0.759067</td>\n",
       "      <td>0.748133</td>\n",
       "      <td>0.805295</td>\n",
       "      <td>0.019127</td>\n",
       "      <td>0.755258</td>\n",
       "      <td>0.754548</td>\n",
       "      <td>0.746427</td>\n",
       "    </tr>\n",
       "    <tr>\n",
       "      <th>1</th>\n",
       "      <td>0.760884</td>\n",
       "      <td>0.769288</td>\n",
       "      <td>0.804991</td>\n",
       "      <td>0.019057</td>\n",
       "      <td>0.773387</td>\n",
       "      <td>0.771873</td>\n",
       "      <td>0.771722</td>\n",
       "    </tr>\n",
       "    <tr>\n",
       "      <th>2</th>\n",
       "      <td>0.761302</td>\n",
       "      <td>0.743436</td>\n",
       "      <td>0.806261</td>\n",
       "      <td>0.025076</td>\n",
       "      <td>0.761684</td>\n",
       "      <td>0.755037</td>\n",
       "      <td>0.752489</td>\n",
       "    </tr>\n",
       "    <tr>\n",
       "      <th>3</th>\n",
       "      <td>0.763663</td>\n",
       "      <td>0.780465</td>\n",
       "      <td>0.808218</td>\n",
       "      <td>0.013645</td>\n",
       "      <td>0.781710</td>\n",
       "      <td>0.789780</td>\n",
       "      <td>0.792080</td>\n",
       "    </tr>\n",
       "    <tr>\n",
       "      <th>4</th>\n",
       "      <td>0.763322</td>\n",
       "      <td>0.787613</td>\n",
       "      <td>0.803864</td>\n",
       "      <td>0.018943</td>\n",
       "      <td>0.792935</td>\n",
       "      <td>0.796313</td>\n",
       "      <td>0.786076</td>\n",
       "    </tr>\n",
       "    <tr>\n",
       "      <th>5</th>\n",
       "      <td>0.764532</td>\n",
       "      <td>0.780140</td>\n",
       "      <td>0.805499</td>\n",
       "      <td>0.020480</td>\n",
       "      <td>0.798042</td>\n",
       "      <td>0.788237</td>\n",
       "      <td>0.794741</td>\n",
       "    </tr>\n",
       "    <tr>\n",
       "      <th>6</th>\n",
       "      <td>0.763675</td>\n",
       "      <td>0.766425</td>\n",
       "      <td>0.808305</td>\n",
       "      <td>0.015369</td>\n",
       "      <td>0.771002</td>\n",
       "      <td>0.770155</td>\n",
       "      <td>0.772614</td>\n",
       "    </tr>\n",
       "    <tr>\n",
       "      <th>7</th>\n",
       "      <td>0.763371</td>\n",
       "      <td>0.728955</td>\n",
       "      <td>0.808822</td>\n",
       "      <td>0.013472</td>\n",
       "      <td>0.741353</td>\n",
       "      <td>0.732727</td>\n",
       "      <td>0.730097</td>\n",
       "    </tr>\n",
       "    <tr>\n",
       "      <th>8</th>\n",
       "      <td>0.765391</td>\n",
       "      <td>0.752889</td>\n",
       "      <td>0.807256</td>\n",
       "      <td>0.024677</td>\n",
       "      <td>0.756986</td>\n",
       "      <td>0.761423</td>\n",
       "      <td>0.751491</td>\n",
       "    </tr>\n",
       "    <tr>\n",
       "      <th>9</th>\n",
       "      <td>0.760295</td>\n",
       "      <td>0.783169</td>\n",
       "      <td>0.804737</td>\n",
       "      <td>0.015947</td>\n",
       "      <td>0.790543</td>\n",
       "      <td>0.789137</td>\n",
       "      <td>0.789235</td>\n",
       "    </tr>\n",
       "  </tbody>\n",
       "</table>\n",
       "</div>"
      ],
      "text/plain": [
       "   score_i_ave  score_i_early_stop_ave  score_i_oof  score_i_std  \\\n",
       "0     0.759067                0.748133     0.805295     0.019127   \n",
       "1     0.760884                0.769288     0.804991     0.019057   \n",
       "2     0.761302                0.743436     0.806261     0.025076   \n",
       "3     0.763663                0.780465     0.808218     0.013645   \n",
       "4     0.763322                0.787613     0.803864     0.018943   \n",
       "5     0.764532                0.780140     0.805499     0.020480   \n",
       "6     0.763675                0.766425     0.808305     0.015369   \n",
       "7     0.763371                0.728955     0.808822     0.013472   \n",
       "8     0.765391                0.752889     0.807256     0.024677   \n",
       "9     0.760295                0.783169     0.804737     0.015947   \n",
       "\n",
       "   score_o_early_stop  score_o_early_stop_vc_w0_hard  \\\n",
       "0            0.755258                       0.754548   \n",
       "1            0.773387                       0.771873   \n",
       "2            0.761684                       0.755037   \n",
       "3            0.781710                       0.789780   \n",
       "4            0.792935                       0.796313   \n",
       "5            0.798042                       0.788237   \n",
       "6            0.771002                       0.770155   \n",
       "7            0.741353                       0.732727   \n",
       "8            0.756986                       0.761423   \n",
       "9            0.790543                       0.789137   \n",
       "\n",
       "   score_o_early_stop_vc_w0_soft  \n",
       "0                       0.746427  \n",
       "1                       0.771722  \n",
       "2                       0.752489  \n",
       "3                       0.792080  \n",
       "4                       0.786076  \n",
       "5                       0.794741  \n",
       "6                       0.772614  \n",
       "7                       0.730097  \n",
       "8                       0.751491  \n",
       "9                       0.789235  "
      ]
     },
     "execution_count": 71,
     "metadata": {},
     "output_type": "execute_result"
    }
   ],
   "source": [
    "pd.DataFrame(results['xt200_test'])"
   ]
  },
  {
   "cell_type": "markdown",
   "metadata": {
    "_uuid": "a3a7e17577d4bcef9a362827b1ab61da67ffd81f"
   },
   "source": [
    "# Save submission"
   ]
  },
  {
   "cell_type": "code",
   "execution_count": null,
   "metadata": {
    "_uuid": "084bba7999829ad9993605f382297e62789b3796"
   },
   "outputs": [],
   "source": [
    "!ls ../input/"
   ]
  },
  {
   "cell_type": "code",
   "execution_count": null,
   "metadata": {
    "_uuid": "cf6738bc5a590342d85f21febd5e068d5081ce93"
   },
   "outputs": [],
   "source": [
    "sub = pd.read_csv(PATH + 'sample_submission.csv')"
   ]
  },
  {
   "cell_type": "code",
   "execution_count": null,
   "metadata": {
    "_uuid": "cd1e7601392789486d696bf33586309d6a53931d"
   },
   "outputs": [],
   "source": [
    "for name,clf in clfs.items():\n",
    "    print('------ {} -----------'.format(name))\n",
    "    sub['Cover_Type'] = clf.predict(test_x) + 1\n",
    "    sub.to_csv('submission_{}.csv'.format(name), index=False)"
   ]
  },
  {
   "cell_type": "code",
   "execution_count": null,
   "metadata": {
    "_uuid": "795ea36b14dfeb796eb205919ed51d0a2c8086ff"
   },
   "outputs": [],
   "source": [
    "!ls"
   ]
  },
  {
   "cell_type": "code",
   "execution_count": null,
   "metadata": {
    "_uuid": "673bfb14a03b629d977ddded00826eb425d1b2bb"
   },
   "outputs": [],
   "source": [
    "for name,x in vcs.items():\n",
    "    print('------ {} -----------'.format(name))\n",
    "    clf = x['vc_w0']\n",
    "    sub['Cover_Type'] = clf.predict(test_x) + 1\n",
    "    sub.to_csv('submission_voting_{}.csv'.format(name), index=False)"
   ]
  },
  {
   "cell_type": "code",
   "execution_count": null,
   "metadata": {
    "_uuid": "c53ba442339d51063603b014d22e9939d4940fff"
   },
   "outputs": [],
   "source": []
  }
 ],
 "metadata": {
  "kernelspec": {
   "display_name": "Python 3",
   "language": "python",
   "name": "python3"
  },
  "language_info": {
   "codemirror_mode": {
    "name": "ipython",
    "version": 3
   },
   "file_extension": ".py",
   "mimetype": "text/x-python",
   "name": "python",
   "nbconvert_exporter": "python",
   "pygments_lexer": "ipython3",
   "version": "3.5.5"
  }
 },
 "nbformat": 4,
 "nbformat_minor": 1
}
